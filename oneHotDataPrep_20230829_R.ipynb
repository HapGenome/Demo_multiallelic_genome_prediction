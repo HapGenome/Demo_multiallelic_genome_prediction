{
 "cells": [
  {
   "cell_type": "code",
   "execution_count": 1,
   "id": "3bbcaaa7",
   "metadata": {},
   "outputs": [
    {
     "name": "stderr",
     "output_type": "stream",
     "text": [
      "── \u001b[1mAttaching packages\u001b[22m ─────────────────────────────────────── tidyverse 1.3.0 ──\n",
      "\n",
      "\u001b[32m✔\u001b[39m \u001b[34mggplot2\u001b[39m 3.3.3     \u001b[32m✔\u001b[39m \u001b[34mpurrr  \u001b[39m 0.3.4\n",
      "\u001b[32m✔\u001b[39m \u001b[34mtibble \u001b[39m 3.0.4     \u001b[32m✔\u001b[39m \u001b[34mdplyr  \u001b[39m 1.0.2\n",
      "\u001b[32m✔\u001b[39m \u001b[34mtidyr  \u001b[39m 1.1.2     \u001b[32m✔\u001b[39m \u001b[34mstringr\u001b[39m 1.4.0\n",
      "\u001b[32m✔\u001b[39m \u001b[34mreadr  \u001b[39m 1.4.0     \u001b[32m✔\u001b[39m \u001b[34mforcats\u001b[39m 0.5.0\n",
      "\n",
      "── \u001b[1mConflicts\u001b[22m ────────────────────────────────────────── tidyverse_conflicts() ──\n",
      "\u001b[31m✖\u001b[39m \u001b[34mdplyr\u001b[39m::\u001b[32mfilter()\u001b[39m masks \u001b[34mstats\u001b[39m::filter()\n",
      "\u001b[31m✖\u001b[39m \u001b[34mdplyr\u001b[39m::\u001b[32mlag()\u001b[39m    masks \u001b[34mstats\u001b[39m::lag()\n",
      "\n"
     ]
    }
   ],
   "source": [
    "library(tidyverse)"
   ]
  },
  {
   "cell_type": "code",
   "execution_count": 2,
   "id": "8d533ed7",
   "metadata": {},
   "outputs": [],
   "source": [
    "hapData = readRDS(\"/mnt/simulatedData/20230829//rawData/20230829_16founder_2waycross_250cross_40DH_0.2select_cycle5_hapMatrix_newselectfunction.rds\")"
   ]
  },
  {
   "cell_type": "code",
   "execution_count": 3,
   "id": "59675841",
   "metadata": {},
   "outputs": [
    {
     "data": {
      "text/html": [
       "<style>\n",
       ".list-inline {list-style: none; margin:0; padding: 0}\n",
       ".list-inline>li {display: inline-block}\n",
       ".list-inline>li:not(:last-child)::after {content: \"\\00b7\"; padding: 0 .5ex}\n",
       "</style>\n",
       "<ol class=list-inline><li>10000</li><li>17116</li></ol>\n"
      ],
      "text/latex": [
       "\\begin{enumerate*}\n",
       "\\item 10000\n",
       "\\item 17116\n",
       "\\end{enumerate*}\n"
      ],
      "text/markdown": [
       "1. 10000\n",
       "2. 17116\n",
       "\n",
       "\n"
      ],
      "text/plain": [
       "[1] 10000 17116"
      ]
     },
     "metadata": {},
     "output_type": "display_data"
    }
   ],
   "source": [
    "dim(hapData)"
   ]
  },
  {
   "cell_type": "code",
   "execution_count": 4,
   "id": "8bce2e21",
   "metadata": {},
   "outputs": [
    {
     "data": {
      "text/html": [
       "<table class=\"dataframe\">\n",
       "<caption>A data.frame: 10 × 10</caption>\n",
       "<thead>\n",
       "\t<tr><th></th><th scope=col>c01p000.0</th><th scope=col>c01p000.1</th><th scope=col>c01p000.2</th><th scope=col>c01p000.3</th><th scope=col>c01p000.4</th><th scope=col>c01p000.5</th><th scope=col>c01p000.6</th><th scope=col>c01p000.7</th><th scope=col>c01p000.8</th><th scope=col>c01p000.9</th></tr>\n",
       "\t<tr><th></th><th scope=col>&lt;chr&gt;</th><th scope=col>&lt;chr&gt;</th><th scope=col>&lt;chr&gt;</th><th scope=col>&lt;chr&gt;</th><th scope=col>&lt;chr&gt;</th><th scope=col>&lt;chr&gt;</th><th scope=col>&lt;chr&gt;</th><th scope=col>&lt;chr&gt;</th><th scope=col>&lt;chr&gt;</th><th scope=col>&lt;chr&gt;</th></tr>\n",
       "</thead>\n",
       "<tbody>\n",
       "\t<tr><th scope=row>progeny1</th><td>Line04</td><td>Line04</td><td>Line04</td><td>Line04</td><td>Line04</td><td>Line04</td><td>Line04</td><td>Line04</td><td>Line04</td><td>Line04</td></tr>\n",
       "\t<tr><th scope=row>progeny2</th><td>Line04</td><td>Line04</td><td>Line04</td><td>Line04</td><td>Line04</td><td>Line04</td><td>Line04</td><td>Line04</td><td>Line04</td><td>Line04</td></tr>\n",
       "\t<tr><th scope=row>progeny3</th><td>Line04</td><td>Line04</td><td>Line04</td><td>Line04</td><td>Line04</td><td>Line04</td><td>Line04</td><td>Line04</td><td>Line04</td><td>Line04</td></tr>\n",
       "\t<tr><th scope=row>progeny4</th><td>Line04</td><td>Line04</td><td>Line04</td><td>Line04</td><td>Line04</td><td>Line04</td><td>Line04</td><td>Line04</td><td>Line04</td><td>Line04</td></tr>\n",
       "\t<tr><th scope=row>progeny5</th><td>Line04</td><td>Line04</td><td>Line04</td><td>Line04</td><td>Line04</td><td>Line04</td><td>Line04</td><td>Line04</td><td>Line04</td><td>Line04</td></tr>\n",
       "\t<tr><th scope=row>progeny6</th><td>Line04</td><td>Line04</td><td>Line04</td><td>Line04</td><td>Line04</td><td>Line04</td><td>Line04</td><td>Line04</td><td>Line04</td><td>Line04</td></tr>\n",
       "\t<tr><th scope=row>progeny7</th><td>Line04</td><td>Line04</td><td>Line04</td><td>Line04</td><td>Line04</td><td>Line04</td><td>Line04</td><td>Line04</td><td>Line04</td><td>Line04</td></tr>\n",
       "\t<tr><th scope=row>progeny8</th><td>Line04</td><td>Line04</td><td>Line04</td><td>Line04</td><td>Line04</td><td>Line04</td><td>Line04</td><td>Line04</td><td>Line04</td><td>Line04</td></tr>\n",
       "\t<tr><th scope=row>progeny9</th><td>Line04</td><td>Line04</td><td>Line04</td><td>Line04</td><td>Line04</td><td>Line04</td><td>Line04</td><td>Line04</td><td>Line04</td><td>Line04</td></tr>\n",
       "\t<tr><th scope=row>progeny10</th><td>Line04</td><td>Line04</td><td>Line04</td><td>Line04</td><td>Line04</td><td>Line04</td><td>Line04</td><td>Line04</td><td>Line04</td><td>Line04</td></tr>\n",
       "</tbody>\n",
       "</table>\n"
      ],
      "text/latex": [
       "A data.frame: 10 × 10\n",
       "\\begin{tabular}{r|llllllllll}\n",
       "  & c01p000.0 & c01p000.1 & c01p000.2 & c01p000.3 & c01p000.4 & c01p000.5 & c01p000.6 & c01p000.7 & c01p000.8 & c01p000.9\\\\\n",
       "  & <chr> & <chr> & <chr> & <chr> & <chr> & <chr> & <chr> & <chr> & <chr> & <chr>\\\\\n",
       "\\hline\n",
       "\tprogeny1 & Line04 & Line04 & Line04 & Line04 & Line04 & Line04 & Line04 & Line04 & Line04 & Line04\\\\\n",
       "\tprogeny2 & Line04 & Line04 & Line04 & Line04 & Line04 & Line04 & Line04 & Line04 & Line04 & Line04\\\\\n",
       "\tprogeny3 & Line04 & Line04 & Line04 & Line04 & Line04 & Line04 & Line04 & Line04 & Line04 & Line04\\\\\n",
       "\tprogeny4 & Line04 & Line04 & Line04 & Line04 & Line04 & Line04 & Line04 & Line04 & Line04 & Line04\\\\\n",
       "\tprogeny5 & Line04 & Line04 & Line04 & Line04 & Line04 & Line04 & Line04 & Line04 & Line04 & Line04\\\\\n",
       "\tprogeny6 & Line04 & Line04 & Line04 & Line04 & Line04 & Line04 & Line04 & Line04 & Line04 & Line04\\\\\n",
       "\tprogeny7 & Line04 & Line04 & Line04 & Line04 & Line04 & Line04 & Line04 & Line04 & Line04 & Line04\\\\\n",
       "\tprogeny8 & Line04 & Line04 & Line04 & Line04 & Line04 & Line04 & Line04 & Line04 & Line04 & Line04\\\\\n",
       "\tprogeny9 & Line04 & Line04 & Line04 & Line04 & Line04 & Line04 & Line04 & Line04 & Line04 & Line04\\\\\n",
       "\tprogeny10 & Line04 & Line04 & Line04 & Line04 & Line04 & Line04 & Line04 & Line04 & Line04 & Line04\\\\\n",
       "\\end{tabular}\n"
      ],
      "text/markdown": [
       "\n",
       "A data.frame: 10 × 10\n",
       "\n",
       "| <!--/--> | c01p000.0 &lt;chr&gt; | c01p000.1 &lt;chr&gt; | c01p000.2 &lt;chr&gt; | c01p000.3 &lt;chr&gt; | c01p000.4 &lt;chr&gt; | c01p000.5 &lt;chr&gt; | c01p000.6 &lt;chr&gt; | c01p000.7 &lt;chr&gt; | c01p000.8 &lt;chr&gt; | c01p000.9 &lt;chr&gt; |\n",
       "|---|---|---|---|---|---|---|---|---|---|---|\n",
       "| progeny1 | Line04 | Line04 | Line04 | Line04 | Line04 | Line04 | Line04 | Line04 | Line04 | Line04 |\n",
       "| progeny2 | Line04 | Line04 | Line04 | Line04 | Line04 | Line04 | Line04 | Line04 | Line04 | Line04 |\n",
       "| progeny3 | Line04 | Line04 | Line04 | Line04 | Line04 | Line04 | Line04 | Line04 | Line04 | Line04 |\n",
       "| progeny4 | Line04 | Line04 | Line04 | Line04 | Line04 | Line04 | Line04 | Line04 | Line04 | Line04 |\n",
       "| progeny5 | Line04 | Line04 | Line04 | Line04 | Line04 | Line04 | Line04 | Line04 | Line04 | Line04 |\n",
       "| progeny6 | Line04 | Line04 | Line04 | Line04 | Line04 | Line04 | Line04 | Line04 | Line04 | Line04 |\n",
       "| progeny7 | Line04 | Line04 | Line04 | Line04 | Line04 | Line04 | Line04 | Line04 | Line04 | Line04 |\n",
       "| progeny8 | Line04 | Line04 | Line04 | Line04 | Line04 | Line04 | Line04 | Line04 | Line04 | Line04 |\n",
       "| progeny9 | Line04 | Line04 | Line04 | Line04 | Line04 | Line04 | Line04 | Line04 | Line04 | Line04 |\n",
       "| progeny10 | Line04 | Line04 | Line04 | Line04 | Line04 | Line04 | Line04 | Line04 | Line04 | Line04 |\n",
       "\n"
      ],
      "text/plain": [
       "          c01p000.0 c01p000.1 c01p000.2 c01p000.3 c01p000.4 c01p000.5 c01p000.6\n",
       "progeny1  Line04    Line04    Line04    Line04    Line04    Line04    Line04   \n",
       "progeny2  Line04    Line04    Line04    Line04    Line04    Line04    Line04   \n",
       "progeny3  Line04    Line04    Line04    Line04    Line04    Line04    Line04   \n",
       "progeny4  Line04    Line04    Line04    Line04    Line04    Line04    Line04   \n",
       "progeny5  Line04    Line04    Line04    Line04    Line04    Line04    Line04   \n",
       "progeny6  Line04    Line04    Line04    Line04    Line04    Line04    Line04   \n",
       "progeny7  Line04    Line04    Line04    Line04    Line04    Line04    Line04   \n",
       "progeny8  Line04    Line04    Line04    Line04    Line04    Line04    Line04   \n",
       "progeny9  Line04    Line04    Line04    Line04    Line04    Line04    Line04   \n",
       "progeny10 Line04    Line04    Line04    Line04    Line04    Line04    Line04   \n",
       "          c01p000.7 c01p000.8 c01p000.9\n",
       "progeny1  Line04    Line04    Line04   \n",
       "progeny2  Line04    Line04    Line04   \n",
       "progeny3  Line04    Line04    Line04   \n",
       "progeny4  Line04    Line04    Line04   \n",
       "progeny5  Line04    Line04    Line04   \n",
       "progeny6  Line04    Line04    Line04   \n",
       "progeny7  Line04    Line04    Line04   \n",
       "progeny8  Line04    Line04    Line04   \n",
       "progeny9  Line04    Line04    Line04   \n",
       "progeny10 Line04    Line04    Line04   "
      ]
     },
     "metadata": {},
     "output_type": "display_data"
    }
   ],
   "source": [
    "hapData[1:10,1:10]"
   ]
  },
  {
   "cell_type": "code",
   "execution_count": 5,
   "id": "a40115fc",
   "metadata": {},
   "outputs": [
    {
     "name": "stderr",
     "output_type": "stream",
     "text": [
      "Loading required package: lattice\n",
      "\n",
      "\n",
      "Attaching package: ‘caret’\n",
      "\n",
      "\n",
      "The following object is masked from ‘package:purrr’:\n",
      "\n",
      "    lift\n",
      "\n",
      "\n"
     ]
    }
   ],
   "source": [
    "source(\"/mnt/simulatedData/getDummyMatrixForPbhData.R\")"
   ]
  },
  {
   "cell_type": "code",
   "execution_count": 6,
   "id": "43b1e7dc",
   "metadata": {},
   "outputs": [
    {
     "name": "stdout",
     "output_type": "stream",
     "text": [
      "[1] \"Step2 ...... Set rare haplotypes as missing ...... \"\n",
      "[1] \"Step3 ...... Converting common homozygous haplotypes to dummy matrix ...... \"\n",
      "[1] \"    ... Processing bins: 1 - 3000 ;\"\n",
      "[1] \"    ... Processing bins: 3001 - 6000 ;\"\n",
      "[1] \"    ... Processing bins: 6001 - 9000 ;\"\n",
      "[1] \"    ... Processing bins: 9001 - 12000 ;\"\n",
      "[1] \"    ... Processing bins: 12001 - 15000 ;\"\n",
      "[1] \"    ... Processing bins: 15001 - 17116 ;\"\n",
      "[1] \"Step4 ...... Add heterozygous haplotypes to dummy matrix ...... \"\n",
      "[1] \"    .... processed: 1 bin(s);\"\n",
      "[1] \"    .... processed: 5000 bin(s);\"\n",
      "[1] \"    .... processed: 10000 bin(s);\"\n",
      "[1] \"    .... processed: 15000 bin(s);\"\n",
      "[1] \"    .... processed: 17116 bin(s);\"\n",
      "[1] \"All Done !!! \"\n"
     ]
    }
   ],
   "source": [
    "hapAlleleData = getDummyMatrixForPbhData(hapData,maf = 0.01,\n",
    "                                         numOfBinsPerRun = 3000,totalBins = 17116,groupNA = TRUE)"
   ]
  },
  {
   "cell_type": "code",
   "execution_count": 7,
   "id": "e66afa43",
   "metadata": {},
   "outputs": [
    {
     "data": {
      "text/html": [
       "<style>\n",
       ".list-inline {list-style: none; margin:0; padding: 0}\n",
       ".list-inline>li {display: inline-block}\n",
       ".list-inline>li:not(:last-child)::after {content: \"\\00b7\"; padding: 0 .5ex}\n",
       "</style>\n",
       "<ol class=list-inline><li>10000</li><li>151996</li></ol>\n"
      ],
      "text/latex": [
       "\\begin{enumerate*}\n",
       "\\item 10000\n",
       "\\item 151996\n",
       "\\end{enumerate*}\n"
      ],
      "text/markdown": [
       "1. 10000\n",
       "2. 151996\n",
       "\n",
       "\n"
      ],
      "text/plain": [
       "[1]  10000 151996"
      ]
     },
     "metadata": {},
     "output_type": "display_data"
    }
   ],
   "source": [
    "dim(hapAlleleData)"
   ]
  },
  {
   "cell_type": "code",
   "execution_count": 8,
   "id": "833ddab8",
   "metadata": {},
   "outputs": [],
   "source": [
    "saveRDS(hapAlleleData,\"/mnt/simulatedData/20230829/hapOneHot.rds\")"
   ]
  },
  {
   "cell_type": "code",
   "execution_count": 9,
   "id": "12ab6ef9",
   "metadata": {},
   "outputs": [],
   "source": [
    "hapAlleleData <- hapAlleleData[,!duplicated(t(hapAlleleData))]"
   ]
  },
  {
   "cell_type": "code",
   "execution_count": 10,
   "id": "2412c621",
   "metadata": {},
   "outputs": [
    {
     "data": {
      "text/html": [
       "<style>\n",
       ".list-inline {list-style: none; margin:0; padding: 0}\n",
       ".list-inline>li {display: inline-block}\n",
       ".list-inline>li:not(:last-child)::after {content: \"\\00b7\"; padding: 0 .5ex}\n",
       "</style>\n",
       "<ol class=list-inline><li>10000</li><li>131004</li></ol>\n"
      ],
      "text/latex": [
       "\\begin{enumerate*}\n",
       "\\item 10000\n",
       "\\item 131004\n",
       "\\end{enumerate*}\n"
      ],
      "text/markdown": [
       "1. 10000\n",
       "2. 131004\n",
       "\n",
       "\n"
      ],
      "text/plain": [
       "[1]  10000 131004"
      ]
     },
     "metadata": {},
     "output_type": "display_data"
    }
   ],
   "source": [
    "dim(hapAlleleData)"
   ]
  },
  {
   "cell_type": "code",
   "execution_count": 67,
   "id": "6870846a",
   "metadata": {},
   "outputs": [
    {
     "data": {
      "text/html": [
       "<table class=\"dataframe\">\n",
       "<caption>A matrix: 10 × 10 of type dbl</caption>\n",
       "<thead>\n",
       "\t<tr><th></th><th scope=col>HB1__Line04</th><th scope=col>HB1__Line05</th><th scope=col>HB1__Line06</th><th scope=col>HB1__Line07</th><th scope=col>HB1__Line08</th><th scope=col>HB1__Line09</th><th scope=col>HB1__Line10</th><th scope=col>HB1__Line12</th><th scope=col>HB1__Line13</th><th scope=col>HB1__Line15</th></tr>\n",
       "</thead>\n",
       "<tbody>\n",
       "\t<tr><th scope=row>progeny1</th><td>2</td><td>0</td><td>0</td><td>0</td><td>0</td><td>0</td><td>0</td><td>0</td><td>0</td><td>0</td></tr>\n",
       "\t<tr><th scope=row>progeny2</th><td>2</td><td>0</td><td>0</td><td>0</td><td>0</td><td>0</td><td>0</td><td>0</td><td>0</td><td>0</td></tr>\n",
       "\t<tr><th scope=row>progeny3</th><td>2</td><td>0</td><td>0</td><td>0</td><td>0</td><td>0</td><td>0</td><td>0</td><td>0</td><td>0</td></tr>\n",
       "\t<tr><th scope=row>progeny4</th><td>2</td><td>0</td><td>0</td><td>0</td><td>0</td><td>0</td><td>0</td><td>0</td><td>0</td><td>0</td></tr>\n",
       "\t<tr><th scope=row>progeny5</th><td>2</td><td>0</td><td>0</td><td>0</td><td>0</td><td>0</td><td>0</td><td>0</td><td>0</td><td>0</td></tr>\n",
       "\t<tr><th scope=row>progeny6</th><td>2</td><td>0</td><td>0</td><td>0</td><td>0</td><td>0</td><td>0</td><td>0</td><td>0</td><td>0</td></tr>\n",
       "\t<tr><th scope=row>progeny7</th><td>2</td><td>0</td><td>0</td><td>0</td><td>0</td><td>0</td><td>0</td><td>0</td><td>0</td><td>0</td></tr>\n",
       "\t<tr><th scope=row>progeny8</th><td>2</td><td>0</td><td>0</td><td>0</td><td>0</td><td>0</td><td>0</td><td>0</td><td>0</td><td>0</td></tr>\n",
       "\t<tr><th scope=row>progeny9</th><td>2</td><td>0</td><td>0</td><td>0</td><td>0</td><td>0</td><td>0</td><td>0</td><td>0</td><td>0</td></tr>\n",
       "\t<tr><th scope=row>progeny10</th><td>2</td><td>0</td><td>0</td><td>0</td><td>0</td><td>0</td><td>0</td><td>0</td><td>0</td><td>0</td></tr>\n",
       "</tbody>\n",
       "</table>\n"
      ],
      "text/latex": [
       "A matrix: 10 × 10 of type dbl\n",
       "\\begin{tabular}{r|llllllllll}\n",
       "  & HB1\\_\\_Line04 & HB1\\_\\_Line05 & HB1\\_\\_Line06 & HB1\\_\\_Line07 & HB1\\_\\_Line08 & HB1\\_\\_Line09 & HB1\\_\\_Line10 & HB1\\_\\_Line12 & HB1\\_\\_Line13 & HB1\\_\\_Line15\\\\\n",
       "\\hline\n",
       "\tprogeny1 & 2 & 0 & 0 & 0 & 0 & 0 & 0 & 0 & 0 & 0\\\\\n",
       "\tprogeny2 & 2 & 0 & 0 & 0 & 0 & 0 & 0 & 0 & 0 & 0\\\\\n",
       "\tprogeny3 & 2 & 0 & 0 & 0 & 0 & 0 & 0 & 0 & 0 & 0\\\\\n",
       "\tprogeny4 & 2 & 0 & 0 & 0 & 0 & 0 & 0 & 0 & 0 & 0\\\\\n",
       "\tprogeny5 & 2 & 0 & 0 & 0 & 0 & 0 & 0 & 0 & 0 & 0\\\\\n",
       "\tprogeny6 & 2 & 0 & 0 & 0 & 0 & 0 & 0 & 0 & 0 & 0\\\\\n",
       "\tprogeny7 & 2 & 0 & 0 & 0 & 0 & 0 & 0 & 0 & 0 & 0\\\\\n",
       "\tprogeny8 & 2 & 0 & 0 & 0 & 0 & 0 & 0 & 0 & 0 & 0\\\\\n",
       "\tprogeny9 & 2 & 0 & 0 & 0 & 0 & 0 & 0 & 0 & 0 & 0\\\\\n",
       "\tprogeny10 & 2 & 0 & 0 & 0 & 0 & 0 & 0 & 0 & 0 & 0\\\\\n",
       "\\end{tabular}\n"
      ],
      "text/markdown": [
       "\n",
       "A matrix: 10 × 10 of type dbl\n",
       "\n",
       "| <!--/--> | HB1__Line04 | HB1__Line05 | HB1__Line06 | HB1__Line07 | HB1__Line08 | HB1__Line09 | HB1__Line10 | HB1__Line12 | HB1__Line13 | HB1__Line15 |\n",
       "|---|---|---|---|---|---|---|---|---|---|---|\n",
       "| progeny1 | 2 | 0 | 0 | 0 | 0 | 0 | 0 | 0 | 0 | 0 |\n",
       "| progeny2 | 2 | 0 | 0 | 0 | 0 | 0 | 0 | 0 | 0 | 0 |\n",
       "| progeny3 | 2 | 0 | 0 | 0 | 0 | 0 | 0 | 0 | 0 | 0 |\n",
       "| progeny4 | 2 | 0 | 0 | 0 | 0 | 0 | 0 | 0 | 0 | 0 |\n",
       "| progeny5 | 2 | 0 | 0 | 0 | 0 | 0 | 0 | 0 | 0 | 0 |\n",
       "| progeny6 | 2 | 0 | 0 | 0 | 0 | 0 | 0 | 0 | 0 | 0 |\n",
       "| progeny7 | 2 | 0 | 0 | 0 | 0 | 0 | 0 | 0 | 0 | 0 |\n",
       "| progeny8 | 2 | 0 | 0 | 0 | 0 | 0 | 0 | 0 | 0 | 0 |\n",
       "| progeny9 | 2 | 0 | 0 | 0 | 0 | 0 | 0 | 0 | 0 | 0 |\n",
       "| progeny10 | 2 | 0 | 0 | 0 | 0 | 0 | 0 | 0 | 0 | 0 |\n",
       "\n"
      ],
      "text/plain": [
       "          HB1__Line04 HB1__Line05 HB1__Line06 HB1__Line07 HB1__Line08\n",
       "progeny1  2           0           0           0           0          \n",
       "progeny2  2           0           0           0           0          \n",
       "progeny3  2           0           0           0           0          \n",
       "progeny4  2           0           0           0           0          \n",
       "progeny5  2           0           0           0           0          \n",
       "progeny6  2           0           0           0           0          \n",
       "progeny7  2           0           0           0           0          \n",
       "progeny8  2           0           0           0           0          \n",
       "progeny9  2           0           0           0           0          \n",
       "progeny10 2           0           0           0           0          \n",
       "          HB1__Line09 HB1__Line10 HB1__Line12 HB1__Line13 HB1__Line15\n",
       "progeny1  0           0           0           0           0          \n",
       "progeny2  0           0           0           0           0          \n",
       "progeny3  0           0           0           0           0          \n",
       "progeny4  0           0           0           0           0          \n",
       "progeny5  0           0           0           0           0          \n",
       "progeny6  0           0           0           0           0          \n",
       "progeny7  0           0           0           0           0          \n",
       "progeny8  0           0           0           0           0          \n",
       "progeny9  0           0           0           0           0          \n",
       "progeny10 0           0           0           0           0          "
      ]
     },
     "metadata": {},
     "output_type": "display_data"
    }
   ],
   "source": [
    "hapAlleleData[1:10,1:10]"
   ]
  },
  {
   "cell_type": "code",
   "execution_count": 11,
   "id": "abcc2431",
   "metadata": {},
   "outputs": [],
   "source": [
    "saveRDS(hapAlleleData,\"/mnt/simulatedData/20230829/hapOneHot_filtered.rds\")"
   ]
  },
  {
   "cell_type": "code",
   "execution_count": 12,
   "id": "6aa605ef",
   "metadata": {},
   "outputs": [],
   "source": [
    "set.seed(2023)\n",
    "trainIndex = sort(sample(1:10000,8000))\n",
    "tmp = hapAlleleData[trainIndex,]\n",
    "saveRDS(tmp,'/mnt/simulatedData/20230829/hapOneHot_train.rds')"
   ]
  },
  {
   "cell_type": "code",
   "execution_count": 70,
   "id": "93f99808",
   "metadata": {},
   "outputs": [],
   "source": [
    "saveRDS(tmp[1:4000,],'/mnt/simulatedData/20230829/hapOneHot_train_seg1.rds')\n",
    "saveRDS(tmp[4001:8000,],'/mnt/simulatedData/20230829/hapOneHot_train_seg2.rds')\n",
    "saveRDS(hapAlleleData[-trainIndex,],'/mnt/simulatedData/20230829/hapOneHot_test.rds')"
   ]
  },
  {
   "cell_type": "code",
   "execution_count": 27,
   "id": "e9f19cc9",
   "metadata": {},
   "outputs": [],
   "source": [
    "pheno = read.table(\"/mnt/simulatedData/20230829/rawData/20230829_16founder_2waycross_250cross_40DH_0.2select_cycle5_phenoMatrix_newselectfunction.txt\",\n",
    "                  header=T)"
   ]
  },
  {
   "cell_type": "code",
   "execution_count": 28,
   "id": "1c0e9ee9",
   "metadata": {},
   "outputs": [],
   "source": [
    "pheno$line = row.names(pheno)"
   ]
  },
  {
   "cell_type": "code",
   "execution_count": 29,
   "id": "e1f492bf",
   "metadata": {},
   "outputs": [],
   "source": [
    "row.names(pheno) = paste0(\"progeny\",1:10000)"
   ]
  },
  {
   "cell_type": "code",
   "execution_count": 30,
   "id": "7a19c70e",
   "metadata": {},
   "outputs": [
    {
     "data": {
      "text/html": [
       "<table class=\"dataframe\">\n",
       "<caption>A data.frame: 6 × 2</caption>\n",
       "<thead>\n",
       "\t<tr><th></th><th scope=col>effect</th><th scope=col>line</th></tr>\n",
       "\t<tr><th></th><th scope=col>&lt;dbl&gt;</th><th scope=col>&lt;chr&gt;</th></tr>\n",
       "</thead>\n",
       "<tbody>\n",
       "\t<tr><th scope=row>progeny1</th><td>-0.24718343</td><td>(((Line08/Line03:80%)/(Line07/Line10:74%):02%)/((Line08/Line02:40%)/(Line08/Line05:60%):05%):35%)/(((Line08/Line03:80%)/(Line07/Line10:74%):28%)/((Line08/Line02:10%)/(Line08/Line14:44%):23%):04%):04%x(((Line08/Line03:80%)/(Line07/Line10:74%):02%)/((Line08/Line02:40%)/(Line08/Line05:60%):05%):22%)/(((Line08/Line03:80%)/(Line07/Line10:74%):14%)/((Line08/Line03:01%)/(Line08/Line03:39%):10%):06%):05%_01</td></tr>\n",
       "\t<tr><th scope=row>progeny2</th><td> 0.06689985</td><td>(((Line08/Line03:80%)/(Line07/Line10:74%):02%)/((Line08/Line02:40%)/(Line08/Line05:60%):05%):35%)/(((Line08/Line03:80%)/(Line07/Line10:74%):28%)/((Line08/Line02:10%)/(Line08/Line14:44%):23%):04%):04%x(((Line08/Line03:80%)/(Line07/Line10:74%):02%)/((Line08/Line02:40%)/(Line08/Line05:60%):05%):22%)/(((Line08/Line03:80%)/(Line07/Line10:74%):14%)/((Line08/Line03:01%)/(Line08/Line03:39%):10%):06%):05%_02</td></tr>\n",
       "\t<tr><th scope=row>progeny3</th><td>-0.13446227</td><td>(((Line08/Line03:80%)/(Line07/Line10:74%):02%)/((Line08/Line02:40%)/(Line08/Line05:60%):05%):35%)/(((Line08/Line03:80%)/(Line07/Line10:74%):28%)/((Line08/Line02:10%)/(Line08/Line14:44%):23%):04%):04%x(((Line08/Line03:80%)/(Line07/Line10:74%):02%)/((Line08/Line02:40%)/(Line08/Line05:60%):05%):22%)/(((Line08/Line03:80%)/(Line07/Line10:74%):14%)/((Line08/Line03:01%)/(Line08/Line03:39%):10%):06%):05%_03</td></tr>\n",
       "\t<tr><th scope=row>progeny4</th><td> 0.18676467</td><td>(((Line08/Line03:80%)/(Line07/Line10:74%):02%)/((Line08/Line02:40%)/(Line08/Line05:60%):05%):35%)/(((Line08/Line03:80%)/(Line07/Line10:74%):28%)/((Line08/Line02:10%)/(Line08/Line14:44%):23%):04%):04%x(((Line08/Line03:80%)/(Line07/Line10:74%):02%)/((Line08/Line02:40%)/(Line08/Line05:60%):05%):22%)/(((Line08/Line03:80%)/(Line07/Line10:74%):14%)/((Line08/Line03:01%)/(Line08/Line03:39%):10%):06%):05%_04</td></tr>\n",
       "\t<tr><th scope=row>progeny5</th><td> 0.41932405</td><td>(((Line08/Line03:80%)/(Line07/Line10:74%):02%)/((Line08/Line02:40%)/(Line08/Line05:60%):05%):35%)/(((Line08/Line03:80%)/(Line07/Line10:74%):28%)/((Line08/Line02:10%)/(Line08/Line14:44%):23%):04%):04%x(((Line08/Line03:80%)/(Line07/Line10:74%):02%)/((Line08/Line02:40%)/(Line08/Line05:60%):05%):22%)/(((Line08/Line03:80%)/(Line07/Line10:74%):14%)/((Line08/Line03:01%)/(Line08/Line03:39%):10%):06%):05%_05</td></tr>\n",
       "\t<tr><th scope=row>progeny6</th><td> 0.11233219</td><td>(((Line08/Line03:80%)/(Line07/Line10:74%):02%)/((Line08/Line02:40%)/(Line08/Line05:60%):05%):35%)/(((Line08/Line03:80%)/(Line07/Line10:74%):28%)/((Line08/Line02:10%)/(Line08/Line14:44%):23%):04%):04%x(((Line08/Line03:80%)/(Line07/Line10:74%):02%)/((Line08/Line02:40%)/(Line08/Line05:60%):05%):22%)/(((Line08/Line03:80%)/(Line07/Line10:74%):14%)/((Line08/Line03:01%)/(Line08/Line03:39%):10%):06%):05%_06</td></tr>\n",
       "</tbody>\n",
       "</table>\n"
      ],
      "text/latex": [
       "A data.frame: 6 × 2\n",
       "\\begin{tabular}{r|ll}\n",
       "  & effect & line\\\\\n",
       "  & <dbl> & <chr>\\\\\n",
       "\\hline\n",
       "\tprogeny1 & -0.24718343 & (((Line08/Line03:80\\%)/(Line07/Line10:74\\%):02\\%)/((Line08/Line02:40\\%)/(Line08/Line05:60\\%):05\\%):35\\%)/(((Line08/Line03:80\\%)/(Line07/Line10:74\\%):28\\%)/((Line08/Line02:10\\%)/(Line08/Line14:44\\%):23\\%):04\\%):04\\%x(((Line08/Line03:80\\%)/(Line07/Line10:74\\%):02\\%)/((Line08/Line02:40\\%)/(Line08/Line05:60\\%):05\\%):22\\%)/(((Line08/Line03:80\\%)/(Line07/Line10:74\\%):14\\%)/((Line08/Line03:01\\%)/(Line08/Line03:39\\%):10\\%):06\\%):05\\%\\_01\\\\\n",
       "\tprogeny2 &  0.06689985 & (((Line08/Line03:80\\%)/(Line07/Line10:74\\%):02\\%)/((Line08/Line02:40\\%)/(Line08/Line05:60\\%):05\\%):35\\%)/(((Line08/Line03:80\\%)/(Line07/Line10:74\\%):28\\%)/((Line08/Line02:10\\%)/(Line08/Line14:44\\%):23\\%):04\\%):04\\%x(((Line08/Line03:80\\%)/(Line07/Line10:74\\%):02\\%)/((Line08/Line02:40\\%)/(Line08/Line05:60\\%):05\\%):22\\%)/(((Line08/Line03:80\\%)/(Line07/Line10:74\\%):14\\%)/((Line08/Line03:01\\%)/(Line08/Line03:39\\%):10\\%):06\\%):05\\%\\_02\\\\\n",
       "\tprogeny3 & -0.13446227 & (((Line08/Line03:80\\%)/(Line07/Line10:74\\%):02\\%)/((Line08/Line02:40\\%)/(Line08/Line05:60\\%):05\\%):35\\%)/(((Line08/Line03:80\\%)/(Line07/Line10:74\\%):28\\%)/((Line08/Line02:10\\%)/(Line08/Line14:44\\%):23\\%):04\\%):04\\%x(((Line08/Line03:80\\%)/(Line07/Line10:74\\%):02\\%)/((Line08/Line02:40\\%)/(Line08/Line05:60\\%):05\\%):22\\%)/(((Line08/Line03:80\\%)/(Line07/Line10:74\\%):14\\%)/((Line08/Line03:01\\%)/(Line08/Line03:39\\%):10\\%):06\\%):05\\%\\_03\\\\\n",
       "\tprogeny4 &  0.18676467 & (((Line08/Line03:80\\%)/(Line07/Line10:74\\%):02\\%)/((Line08/Line02:40\\%)/(Line08/Line05:60\\%):05\\%):35\\%)/(((Line08/Line03:80\\%)/(Line07/Line10:74\\%):28\\%)/((Line08/Line02:10\\%)/(Line08/Line14:44\\%):23\\%):04\\%):04\\%x(((Line08/Line03:80\\%)/(Line07/Line10:74\\%):02\\%)/((Line08/Line02:40\\%)/(Line08/Line05:60\\%):05\\%):22\\%)/(((Line08/Line03:80\\%)/(Line07/Line10:74\\%):14\\%)/((Line08/Line03:01\\%)/(Line08/Line03:39\\%):10\\%):06\\%):05\\%\\_04\\\\\n",
       "\tprogeny5 &  0.41932405 & (((Line08/Line03:80\\%)/(Line07/Line10:74\\%):02\\%)/((Line08/Line02:40\\%)/(Line08/Line05:60\\%):05\\%):35\\%)/(((Line08/Line03:80\\%)/(Line07/Line10:74\\%):28\\%)/((Line08/Line02:10\\%)/(Line08/Line14:44\\%):23\\%):04\\%):04\\%x(((Line08/Line03:80\\%)/(Line07/Line10:74\\%):02\\%)/((Line08/Line02:40\\%)/(Line08/Line05:60\\%):05\\%):22\\%)/(((Line08/Line03:80\\%)/(Line07/Line10:74\\%):14\\%)/((Line08/Line03:01\\%)/(Line08/Line03:39\\%):10\\%):06\\%):05\\%\\_05\\\\\n",
       "\tprogeny6 &  0.11233219 & (((Line08/Line03:80\\%)/(Line07/Line10:74\\%):02\\%)/((Line08/Line02:40\\%)/(Line08/Line05:60\\%):05\\%):35\\%)/(((Line08/Line03:80\\%)/(Line07/Line10:74\\%):28\\%)/((Line08/Line02:10\\%)/(Line08/Line14:44\\%):23\\%):04\\%):04\\%x(((Line08/Line03:80\\%)/(Line07/Line10:74\\%):02\\%)/((Line08/Line02:40\\%)/(Line08/Line05:60\\%):05\\%):22\\%)/(((Line08/Line03:80\\%)/(Line07/Line10:74\\%):14\\%)/((Line08/Line03:01\\%)/(Line08/Line03:39\\%):10\\%):06\\%):05\\%\\_06\\\\\n",
       "\\end{tabular}\n"
      ],
      "text/markdown": [
       "\n",
       "A data.frame: 6 × 2\n",
       "\n",
       "| <!--/--> | effect &lt;dbl&gt; | line &lt;chr&gt; |\n",
       "|---|---|---|\n",
       "| progeny1 | -0.24718343 | (((Line08/Line03:80%)/(Line07/Line10:74%):02%)/((Line08/Line02:40%)/(Line08/Line05:60%):05%):35%)/(((Line08/Line03:80%)/(Line07/Line10:74%):28%)/((Line08/Line02:10%)/(Line08/Line14:44%):23%):04%):04%x(((Line08/Line03:80%)/(Line07/Line10:74%):02%)/((Line08/Line02:40%)/(Line08/Line05:60%):05%):22%)/(((Line08/Line03:80%)/(Line07/Line10:74%):14%)/((Line08/Line03:01%)/(Line08/Line03:39%):10%):06%):05%_01 |\n",
       "| progeny2 |  0.06689985 | (((Line08/Line03:80%)/(Line07/Line10:74%):02%)/((Line08/Line02:40%)/(Line08/Line05:60%):05%):35%)/(((Line08/Line03:80%)/(Line07/Line10:74%):28%)/((Line08/Line02:10%)/(Line08/Line14:44%):23%):04%):04%x(((Line08/Line03:80%)/(Line07/Line10:74%):02%)/((Line08/Line02:40%)/(Line08/Line05:60%):05%):22%)/(((Line08/Line03:80%)/(Line07/Line10:74%):14%)/((Line08/Line03:01%)/(Line08/Line03:39%):10%):06%):05%_02 |\n",
       "| progeny3 | -0.13446227 | (((Line08/Line03:80%)/(Line07/Line10:74%):02%)/((Line08/Line02:40%)/(Line08/Line05:60%):05%):35%)/(((Line08/Line03:80%)/(Line07/Line10:74%):28%)/((Line08/Line02:10%)/(Line08/Line14:44%):23%):04%):04%x(((Line08/Line03:80%)/(Line07/Line10:74%):02%)/((Line08/Line02:40%)/(Line08/Line05:60%):05%):22%)/(((Line08/Line03:80%)/(Line07/Line10:74%):14%)/((Line08/Line03:01%)/(Line08/Line03:39%):10%):06%):05%_03 |\n",
       "| progeny4 |  0.18676467 | (((Line08/Line03:80%)/(Line07/Line10:74%):02%)/((Line08/Line02:40%)/(Line08/Line05:60%):05%):35%)/(((Line08/Line03:80%)/(Line07/Line10:74%):28%)/((Line08/Line02:10%)/(Line08/Line14:44%):23%):04%):04%x(((Line08/Line03:80%)/(Line07/Line10:74%):02%)/((Line08/Line02:40%)/(Line08/Line05:60%):05%):22%)/(((Line08/Line03:80%)/(Line07/Line10:74%):14%)/((Line08/Line03:01%)/(Line08/Line03:39%):10%):06%):05%_04 |\n",
       "| progeny5 |  0.41932405 | (((Line08/Line03:80%)/(Line07/Line10:74%):02%)/((Line08/Line02:40%)/(Line08/Line05:60%):05%):35%)/(((Line08/Line03:80%)/(Line07/Line10:74%):28%)/((Line08/Line02:10%)/(Line08/Line14:44%):23%):04%):04%x(((Line08/Line03:80%)/(Line07/Line10:74%):02%)/((Line08/Line02:40%)/(Line08/Line05:60%):05%):22%)/(((Line08/Line03:80%)/(Line07/Line10:74%):14%)/((Line08/Line03:01%)/(Line08/Line03:39%):10%):06%):05%_05 |\n",
       "| progeny6 |  0.11233219 | (((Line08/Line03:80%)/(Line07/Line10:74%):02%)/((Line08/Line02:40%)/(Line08/Line05:60%):05%):35%)/(((Line08/Line03:80%)/(Line07/Line10:74%):28%)/((Line08/Line02:10%)/(Line08/Line14:44%):23%):04%):04%x(((Line08/Line03:80%)/(Line07/Line10:74%):02%)/((Line08/Line02:40%)/(Line08/Line05:60%):05%):22%)/(((Line08/Line03:80%)/(Line07/Line10:74%):14%)/((Line08/Line03:01%)/(Line08/Line03:39%):10%):06%):05%_06 |\n",
       "\n"
      ],
      "text/plain": [
       "         effect     \n",
       "progeny1 -0.24718343\n",
       "progeny2  0.06689985\n",
       "progeny3 -0.13446227\n",
       "progeny4  0.18676467\n",
       "progeny5  0.41932405\n",
       "progeny6  0.11233219\n",
       "         line                                                                                                                                                                                                                                                                                                                                                                                                              \n",
       "progeny1 (((Line08/Line03:80%)/(Line07/Line10:74%):02%)/((Line08/Line02:40%)/(Line08/Line05:60%):05%):35%)/(((Line08/Line03:80%)/(Line07/Line10:74%):28%)/((Line08/Line02:10%)/(Line08/Line14:44%):23%):04%):04%x(((Line08/Line03:80%)/(Line07/Line10:74%):02%)/((Line08/Line02:40%)/(Line08/Line05:60%):05%):22%)/(((Line08/Line03:80%)/(Line07/Line10:74%):14%)/((Line08/Line03:01%)/(Line08/Line03:39%):10%):06%):05%_01\n",
       "progeny2 (((Line08/Line03:80%)/(Line07/Line10:74%):02%)/((Line08/Line02:40%)/(Line08/Line05:60%):05%):35%)/(((Line08/Line03:80%)/(Line07/Line10:74%):28%)/((Line08/Line02:10%)/(Line08/Line14:44%):23%):04%):04%x(((Line08/Line03:80%)/(Line07/Line10:74%):02%)/((Line08/Line02:40%)/(Line08/Line05:60%):05%):22%)/(((Line08/Line03:80%)/(Line07/Line10:74%):14%)/((Line08/Line03:01%)/(Line08/Line03:39%):10%):06%):05%_02\n",
       "progeny3 (((Line08/Line03:80%)/(Line07/Line10:74%):02%)/((Line08/Line02:40%)/(Line08/Line05:60%):05%):35%)/(((Line08/Line03:80%)/(Line07/Line10:74%):28%)/((Line08/Line02:10%)/(Line08/Line14:44%):23%):04%):04%x(((Line08/Line03:80%)/(Line07/Line10:74%):02%)/((Line08/Line02:40%)/(Line08/Line05:60%):05%):22%)/(((Line08/Line03:80%)/(Line07/Line10:74%):14%)/((Line08/Line03:01%)/(Line08/Line03:39%):10%):06%):05%_03\n",
       "progeny4 (((Line08/Line03:80%)/(Line07/Line10:74%):02%)/((Line08/Line02:40%)/(Line08/Line05:60%):05%):35%)/(((Line08/Line03:80%)/(Line07/Line10:74%):28%)/((Line08/Line02:10%)/(Line08/Line14:44%):23%):04%):04%x(((Line08/Line03:80%)/(Line07/Line10:74%):02%)/((Line08/Line02:40%)/(Line08/Line05:60%):05%):22%)/(((Line08/Line03:80%)/(Line07/Line10:74%):14%)/((Line08/Line03:01%)/(Line08/Line03:39%):10%):06%):05%_04\n",
       "progeny5 (((Line08/Line03:80%)/(Line07/Line10:74%):02%)/((Line08/Line02:40%)/(Line08/Line05:60%):05%):35%)/(((Line08/Line03:80%)/(Line07/Line10:74%):28%)/((Line08/Line02:10%)/(Line08/Line14:44%):23%):04%):04%x(((Line08/Line03:80%)/(Line07/Line10:74%):02%)/((Line08/Line02:40%)/(Line08/Line05:60%):05%):22%)/(((Line08/Line03:80%)/(Line07/Line10:74%):14%)/((Line08/Line03:01%)/(Line08/Line03:39%):10%):06%):05%_05\n",
       "progeny6 (((Line08/Line03:80%)/(Line07/Line10:74%):02%)/((Line08/Line02:40%)/(Line08/Line05:60%):05%):35%)/(((Line08/Line03:80%)/(Line07/Line10:74%):28%)/((Line08/Line02:10%)/(Line08/Line14:44%):23%):04%):04%x(((Line08/Line03:80%)/(Line07/Line10:74%):02%)/((Line08/Line02:40%)/(Line08/Line05:60%):05%):22%)/(((Line08/Line03:80%)/(Line07/Line10:74%):14%)/((Line08/Line03:01%)/(Line08/Line03:39%):10%):06%):05%_06"
      ]
     },
     "metadata": {},
     "output_type": "display_data"
    }
   ],
   "source": [
    "head(pheno)"
   ]
  },
  {
   "cell_type": "code",
   "execution_count": 31,
   "id": "9f4af55a",
   "metadata": {},
   "outputs": [],
   "source": [
    "trainPheno = pheno[trainIndex,]"
   ]
  },
  {
   "cell_type": "code",
   "execution_count": 32,
   "id": "1c5b0d75",
   "metadata": {},
   "outputs": [
    {
     "data": {
      "text/html": [
       "<style>\n",
       ".list-inline {list-style: none; margin:0; padding: 0}\n",
       ".list-inline>li {display: inline-block}\n",
       ".list-inline>li:not(:last-child)::after {content: \"\\00b7\"; padding: 0 .5ex}\n",
       "</style>\n",
       "<ol class=list-inline><li>8000</li><li>2</li></ol>\n"
      ],
      "text/latex": [
       "\\begin{enumerate*}\n",
       "\\item 8000\n",
       "\\item 2\n",
       "\\end{enumerate*}\n"
      ],
      "text/markdown": [
       "1. 8000\n",
       "2. 2\n",
       "\n",
       "\n"
      ],
      "text/plain": [
       "[1] 8000    2"
      ]
     },
     "metadata": {},
     "output_type": "display_data"
    }
   ],
   "source": [
    "dim(trainPheno)"
   ]
  },
  {
   "cell_type": "code",
   "execution_count": 33,
   "id": "5fc7451a",
   "metadata": {},
   "outputs": [
    {
     "data": {
      "text/html": [
       "<table class=\"dataframe\">\n",
       "<caption>A data.frame: 6 × 2</caption>\n",
       "<thead>\n",
       "\t<tr><th></th><th scope=col>effect</th><th scope=col>line</th></tr>\n",
       "\t<tr><th></th><th scope=col>&lt;dbl&gt;</th><th scope=col>&lt;chr&gt;</th></tr>\n",
       "</thead>\n",
       "<tbody>\n",
       "\t<tr><th scope=row>progeny1</th><td>-0.24718343</td><td>(((Line08/Line03:80%)/(Line07/Line10:74%):02%)/((Line08/Line02:40%)/(Line08/Line05:60%):05%):35%)/(((Line08/Line03:80%)/(Line07/Line10:74%):28%)/((Line08/Line02:10%)/(Line08/Line14:44%):23%):04%):04%x(((Line08/Line03:80%)/(Line07/Line10:74%):02%)/((Line08/Line02:40%)/(Line08/Line05:60%):05%):22%)/(((Line08/Line03:80%)/(Line07/Line10:74%):14%)/((Line08/Line03:01%)/(Line08/Line03:39%):10%):06%):05%_01</td></tr>\n",
       "\t<tr><th scope=row>progeny2</th><td> 0.06689985</td><td>(((Line08/Line03:80%)/(Line07/Line10:74%):02%)/((Line08/Line02:40%)/(Line08/Line05:60%):05%):35%)/(((Line08/Line03:80%)/(Line07/Line10:74%):28%)/((Line08/Line02:10%)/(Line08/Line14:44%):23%):04%):04%x(((Line08/Line03:80%)/(Line07/Line10:74%):02%)/((Line08/Line02:40%)/(Line08/Line05:60%):05%):22%)/(((Line08/Line03:80%)/(Line07/Line10:74%):14%)/((Line08/Line03:01%)/(Line08/Line03:39%):10%):06%):05%_02</td></tr>\n",
       "\t<tr><th scope=row>progeny3</th><td>-0.13446227</td><td>(((Line08/Line03:80%)/(Line07/Line10:74%):02%)/((Line08/Line02:40%)/(Line08/Line05:60%):05%):35%)/(((Line08/Line03:80%)/(Line07/Line10:74%):28%)/((Line08/Line02:10%)/(Line08/Line14:44%):23%):04%):04%x(((Line08/Line03:80%)/(Line07/Line10:74%):02%)/((Line08/Line02:40%)/(Line08/Line05:60%):05%):22%)/(((Line08/Line03:80%)/(Line07/Line10:74%):14%)/((Line08/Line03:01%)/(Line08/Line03:39%):10%):06%):05%_03</td></tr>\n",
       "\t<tr><th scope=row>progeny4</th><td> 0.18676467</td><td>(((Line08/Line03:80%)/(Line07/Line10:74%):02%)/((Line08/Line02:40%)/(Line08/Line05:60%):05%):35%)/(((Line08/Line03:80%)/(Line07/Line10:74%):28%)/((Line08/Line02:10%)/(Line08/Line14:44%):23%):04%):04%x(((Line08/Line03:80%)/(Line07/Line10:74%):02%)/((Line08/Line02:40%)/(Line08/Line05:60%):05%):22%)/(((Line08/Line03:80%)/(Line07/Line10:74%):14%)/((Line08/Line03:01%)/(Line08/Line03:39%):10%):06%):05%_04</td></tr>\n",
       "\t<tr><th scope=row>progeny5</th><td> 0.41932405</td><td>(((Line08/Line03:80%)/(Line07/Line10:74%):02%)/((Line08/Line02:40%)/(Line08/Line05:60%):05%):35%)/(((Line08/Line03:80%)/(Line07/Line10:74%):28%)/((Line08/Line02:10%)/(Line08/Line14:44%):23%):04%):04%x(((Line08/Line03:80%)/(Line07/Line10:74%):02%)/((Line08/Line02:40%)/(Line08/Line05:60%):05%):22%)/(((Line08/Line03:80%)/(Line07/Line10:74%):14%)/((Line08/Line03:01%)/(Line08/Line03:39%):10%):06%):05%_05</td></tr>\n",
       "\t<tr><th scope=row>progeny6</th><td> 0.11233219</td><td>(((Line08/Line03:80%)/(Line07/Line10:74%):02%)/((Line08/Line02:40%)/(Line08/Line05:60%):05%):35%)/(((Line08/Line03:80%)/(Line07/Line10:74%):28%)/((Line08/Line02:10%)/(Line08/Line14:44%):23%):04%):04%x(((Line08/Line03:80%)/(Line07/Line10:74%):02%)/((Line08/Line02:40%)/(Line08/Line05:60%):05%):22%)/(((Line08/Line03:80%)/(Line07/Line10:74%):14%)/((Line08/Line03:01%)/(Line08/Line03:39%):10%):06%):05%_06</td></tr>\n",
       "</tbody>\n",
       "</table>\n"
      ],
      "text/latex": [
       "A data.frame: 6 × 2\n",
       "\\begin{tabular}{r|ll}\n",
       "  & effect & line\\\\\n",
       "  & <dbl> & <chr>\\\\\n",
       "\\hline\n",
       "\tprogeny1 & -0.24718343 & (((Line08/Line03:80\\%)/(Line07/Line10:74\\%):02\\%)/((Line08/Line02:40\\%)/(Line08/Line05:60\\%):05\\%):35\\%)/(((Line08/Line03:80\\%)/(Line07/Line10:74\\%):28\\%)/((Line08/Line02:10\\%)/(Line08/Line14:44\\%):23\\%):04\\%):04\\%x(((Line08/Line03:80\\%)/(Line07/Line10:74\\%):02\\%)/((Line08/Line02:40\\%)/(Line08/Line05:60\\%):05\\%):22\\%)/(((Line08/Line03:80\\%)/(Line07/Line10:74\\%):14\\%)/((Line08/Line03:01\\%)/(Line08/Line03:39\\%):10\\%):06\\%):05\\%\\_01\\\\\n",
       "\tprogeny2 &  0.06689985 & (((Line08/Line03:80\\%)/(Line07/Line10:74\\%):02\\%)/((Line08/Line02:40\\%)/(Line08/Line05:60\\%):05\\%):35\\%)/(((Line08/Line03:80\\%)/(Line07/Line10:74\\%):28\\%)/((Line08/Line02:10\\%)/(Line08/Line14:44\\%):23\\%):04\\%):04\\%x(((Line08/Line03:80\\%)/(Line07/Line10:74\\%):02\\%)/((Line08/Line02:40\\%)/(Line08/Line05:60\\%):05\\%):22\\%)/(((Line08/Line03:80\\%)/(Line07/Line10:74\\%):14\\%)/((Line08/Line03:01\\%)/(Line08/Line03:39\\%):10\\%):06\\%):05\\%\\_02\\\\\n",
       "\tprogeny3 & -0.13446227 & (((Line08/Line03:80\\%)/(Line07/Line10:74\\%):02\\%)/((Line08/Line02:40\\%)/(Line08/Line05:60\\%):05\\%):35\\%)/(((Line08/Line03:80\\%)/(Line07/Line10:74\\%):28\\%)/((Line08/Line02:10\\%)/(Line08/Line14:44\\%):23\\%):04\\%):04\\%x(((Line08/Line03:80\\%)/(Line07/Line10:74\\%):02\\%)/((Line08/Line02:40\\%)/(Line08/Line05:60\\%):05\\%):22\\%)/(((Line08/Line03:80\\%)/(Line07/Line10:74\\%):14\\%)/((Line08/Line03:01\\%)/(Line08/Line03:39\\%):10\\%):06\\%):05\\%\\_03\\\\\n",
       "\tprogeny4 &  0.18676467 & (((Line08/Line03:80\\%)/(Line07/Line10:74\\%):02\\%)/((Line08/Line02:40\\%)/(Line08/Line05:60\\%):05\\%):35\\%)/(((Line08/Line03:80\\%)/(Line07/Line10:74\\%):28\\%)/((Line08/Line02:10\\%)/(Line08/Line14:44\\%):23\\%):04\\%):04\\%x(((Line08/Line03:80\\%)/(Line07/Line10:74\\%):02\\%)/((Line08/Line02:40\\%)/(Line08/Line05:60\\%):05\\%):22\\%)/(((Line08/Line03:80\\%)/(Line07/Line10:74\\%):14\\%)/((Line08/Line03:01\\%)/(Line08/Line03:39\\%):10\\%):06\\%):05\\%\\_04\\\\\n",
       "\tprogeny5 &  0.41932405 & (((Line08/Line03:80\\%)/(Line07/Line10:74\\%):02\\%)/((Line08/Line02:40\\%)/(Line08/Line05:60\\%):05\\%):35\\%)/(((Line08/Line03:80\\%)/(Line07/Line10:74\\%):28\\%)/((Line08/Line02:10\\%)/(Line08/Line14:44\\%):23\\%):04\\%):04\\%x(((Line08/Line03:80\\%)/(Line07/Line10:74\\%):02\\%)/((Line08/Line02:40\\%)/(Line08/Line05:60\\%):05\\%):22\\%)/(((Line08/Line03:80\\%)/(Line07/Line10:74\\%):14\\%)/((Line08/Line03:01\\%)/(Line08/Line03:39\\%):10\\%):06\\%):05\\%\\_05\\\\\n",
       "\tprogeny6 &  0.11233219 & (((Line08/Line03:80\\%)/(Line07/Line10:74\\%):02\\%)/((Line08/Line02:40\\%)/(Line08/Line05:60\\%):05\\%):35\\%)/(((Line08/Line03:80\\%)/(Line07/Line10:74\\%):28\\%)/((Line08/Line02:10\\%)/(Line08/Line14:44\\%):23\\%):04\\%):04\\%x(((Line08/Line03:80\\%)/(Line07/Line10:74\\%):02\\%)/((Line08/Line02:40\\%)/(Line08/Line05:60\\%):05\\%):22\\%)/(((Line08/Line03:80\\%)/(Line07/Line10:74\\%):14\\%)/((Line08/Line03:01\\%)/(Line08/Line03:39\\%):10\\%):06\\%):05\\%\\_06\\\\\n",
       "\\end{tabular}\n"
      ],
      "text/markdown": [
       "\n",
       "A data.frame: 6 × 2\n",
       "\n",
       "| <!--/--> | effect &lt;dbl&gt; | line &lt;chr&gt; |\n",
       "|---|---|---|\n",
       "| progeny1 | -0.24718343 | (((Line08/Line03:80%)/(Line07/Line10:74%):02%)/((Line08/Line02:40%)/(Line08/Line05:60%):05%):35%)/(((Line08/Line03:80%)/(Line07/Line10:74%):28%)/((Line08/Line02:10%)/(Line08/Line14:44%):23%):04%):04%x(((Line08/Line03:80%)/(Line07/Line10:74%):02%)/((Line08/Line02:40%)/(Line08/Line05:60%):05%):22%)/(((Line08/Line03:80%)/(Line07/Line10:74%):14%)/((Line08/Line03:01%)/(Line08/Line03:39%):10%):06%):05%_01 |\n",
       "| progeny2 |  0.06689985 | (((Line08/Line03:80%)/(Line07/Line10:74%):02%)/((Line08/Line02:40%)/(Line08/Line05:60%):05%):35%)/(((Line08/Line03:80%)/(Line07/Line10:74%):28%)/((Line08/Line02:10%)/(Line08/Line14:44%):23%):04%):04%x(((Line08/Line03:80%)/(Line07/Line10:74%):02%)/((Line08/Line02:40%)/(Line08/Line05:60%):05%):22%)/(((Line08/Line03:80%)/(Line07/Line10:74%):14%)/((Line08/Line03:01%)/(Line08/Line03:39%):10%):06%):05%_02 |\n",
       "| progeny3 | -0.13446227 | (((Line08/Line03:80%)/(Line07/Line10:74%):02%)/((Line08/Line02:40%)/(Line08/Line05:60%):05%):35%)/(((Line08/Line03:80%)/(Line07/Line10:74%):28%)/((Line08/Line02:10%)/(Line08/Line14:44%):23%):04%):04%x(((Line08/Line03:80%)/(Line07/Line10:74%):02%)/((Line08/Line02:40%)/(Line08/Line05:60%):05%):22%)/(((Line08/Line03:80%)/(Line07/Line10:74%):14%)/((Line08/Line03:01%)/(Line08/Line03:39%):10%):06%):05%_03 |\n",
       "| progeny4 |  0.18676467 | (((Line08/Line03:80%)/(Line07/Line10:74%):02%)/((Line08/Line02:40%)/(Line08/Line05:60%):05%):35%)/(((Line08/Line03:80%)/(Line07/Line10:74%):28%)/((Line08/Line02:10%)/(Line08/Line14:44%):23%):04%):04%x(((Line08/Line03:80%)/(Line07/Line10:74%):02%)/((Line08/Line02:40%)/(Line08/Line05:60%):05%):22%)/(((Line08/Line03:80%)/(Line07/Line10:74%):14%)/((Line08/Line03:01%)/(Line08/Line03:39%):10%):06%):05%_04 |\n",
       "| progeny5 |  0.41932405 | (((Line08/Line03:80%)/(Line07/Line10:74%):02%)/((Line08/Line02:40%)/(Line08/Line05:60%):05%):35%)/(((Line08/Line03:80%)/(Line07/Line10:74%):28%)/((Line08/Line02:10%)/(Line08/Line14:44%):23%):04%):04%x(((Line08/Line03:80%)/(Line07/Line10:74%):02%)/((Line08/Line02:40%)/(Line08/Line05:60%):05%):22%)/(((Line08/Line03:80%)/(Line07/Line10:74%):14%)/((Line08/Line03:01%)/(Line08/Line03:39%):10%):06%):05%_05 |\n",
       "| progeny6 |  0.11233219 | (((Line08/Line03:80%)/(Line07/Line10:74%):02%)/((Line08/Line02:40%)/(Line08/Line05:60%):05%):35%)/(((Line08/Line03:80%)/(Line07/Line10:74%):28%)/((Line08/Line02:10%)/(Line08/Line14:44%):23%):04%):04%x(((Line08/Line03:80%)/(Line07/Line10:74%):02%)/((Line08/Line02:40%)/(Line08/Line05:60%):05%):22%)/(((Line08/Line03:80%)/(Line07/Line10:74%):14%)/((Line08/Line03:01%)/(Line08/Line03:39%):10%):06%):05%_06 |\n",
       "\n"
      ],
      "text/plain": [
       "         effect     \n",
       "progeny1 -0.24718343\n",
       "progeny2  0.06689985\n",
       "progeny3 -0.13446227\n",
       "progeny4  0.18676467\n",
       "progeny5  0.41932405\n",
       "progeny6  0.11233219\n",
       "         line                                                                                                                                                                                                                                                                                                                                                                                                              \n",
       "progeny1 (((Line08/Line03:80%)/(Line07/Line10:74%):02%)/((Line08/Line02:40%)/(Line08/Line05:60%):05%):35%)/(((Line08/Line03:80%)/(Line07/Line10:74%):28%)/((Line08/Line02:10%)/(Line08/Line14:44%):23%):04%):04%x(((Line08/Line03:80%)/(Line07/Line10:74%):02%)/((Line08/Line02:40%)/(Line08/Line05:60%):05%):22%)/(((Line08/Line03:80%)/(Line07/Line10:74%):14%)/((Line08/Line03:01%)/(Line08/Line03:39%):10%):06%):05%_01\n",
       "progeny2 (((Line08/Line03:80%)/(Line07/Line10:74%):02%)/((Line08/Line02:40%)/(Line08/Line05:60%):05%):35%)/(((Line08/Line03:80%)/(Line07/Line10:74%):28%)/((Line08/Line02:10%)/(Line08/Line14:44%):23%):04%):04%x(((Line08/Line03:80%)/(Line07/Line10:74%):02%)/((Line08/Line02:40%)/(Line08/Line05:60%):05%):22%)/(((Line08/Line03:80%)/(Line07/Line10:74%):14%)/((Line08/Line03:01%)/(Line08/Line03:39%):10%):06%):05%_02\n",
       "progeny3 (((Line08/Line03:80%)/(Line07/Line10:74%):02%)/((Line08/Line02:40%)/(Line08/Line05:60%):05%):35%)/(((Line08/Line03:80%)/(Line07/Line10:74%):28%)/((Line08/Line02:10%)/(Line08/Line14:44%):23%):04%):04%x(((Line08/Line03:80%)/(Line07/Line10:74%):02%)/((Line08/Line02:40%)/(Line08/Line05:60%):05%):22%)/(((Line08/Line03:80%)/(Line07/Line10:74%):14%)/((Line08/Line03:01%)/(Line08/Line03:39%):10%):06%):05%_03\n",
       "progeny4 (((Line08/Line03:80%)/(Line07/Line10:74%):02%)/((Line08/Line02:40%)/(Line08/Line05:60%):05%):35%)/(((Line08/Line03:80%)/(Line07/Line10:74%):28%)/((Line08/Line02:10%)/(Line08/Line14:44%):23%):04%):04%x(((Line08/Line03:80%)/(Line07/Line10:74%):02%)/((Line08/Line02:40%)/(Line08/Line05:60%):05%):22%)/(((Line08/Line03:80%)/(Line07/Line10:74%):14%)/((Line08/Line03:01%)/(Line08/Line03:39%):10%):06%):05%_04\n",
       "progeny5 (((Line08/Line03:80%)/(Line07/Line10:74%):02%)/((Line08/Line02:40%)/(Line08/Line05:60%):05%):35%)/(((Line08/Line03:80%)/(Line07/Line10:74%):28%)/((Line08/Line02:10%)/(Line08/Line14:44%):23%):04%):04%x(((Line08/Line03:80%)/(Line07/Line10:74%):02%)/((Line08/Line02:40%)/(Line08/Line05:60%):05%):22%)/(((Line08/Line03:80%)/(Line07/Line10:74%):14%)/((Line08/Line03:01%)/(Line08/Line03:39%):10%):06%):05%_05\n",
       "progeny6 (((Line08/Line03:80%)/(Line07/Line10:74%):02%)/((Line08/Line02:40%)/(Line08/Line05:60%):05%):35%)/(((Line08/Line03:80%)/(Line07/Line10:74%):28%)/((Line08/Line02:10%)/(Line08/Line14:44%):23%):04%):04%x(((Line08/Line03:80%)/(Line07/Line10:74%):02%)/((Line08/Line02:40%)/(Line08/Line05:60%):05%):22%)/(((Line08/Line03:80%)/(Line07/Line10:74%):14%)/((Line08/Line03:01%)/(Line08/Line03:39%):10%):06%):05%_06"
      ]
     },
     "metadata": {},
     "output_type": "display_data"
    }
   ],
   "source": [
    "head(trainPheno)"
   ]
  },
  {
   "cell_type": "code",
   "execution_count": 35,
   "id": "2c8d520f",
   "metadata": {},
   "outputs": [],
   "source": [
    "write.csv(trainPheno,\"/mnt/simulatedData/20230829/pheno_train.csv\",row.names=F)"
   ]
  },
  {
   "cell_type": "code",
   "execution_count": 94,
   "id": "92b6b655",
   "metadata": {},
   "outputs": [],
   "source": [
    "write.csv(pheno[-trainIndex,],\"/mnt/simulatedData/20230829/pheno_test.csv\",row.names=F)"
   ]
  },
  {
   "cell_type": "code",
   "execution_count": 36,
   "id": "a12233b6",
   "metadata": {},
   "outputs": [],
   "source": [
    "# read marker data\n",
    "mkData = readRDS('/mnt/simulatedData/20230829/rawData/20230829_16founder_2waycross_250cross_40DH_0.2select_cycle5_markerMatrix_newselectfunction.rds')"
   ]
  },
  {
   "cell_type": "code",
   "execution_count": 37,
   "id": "7307a148",
   "metadata": {},
   "outputs": [
    {
     "data": {
      "text/html": [
       "<style>\n",
       ".list-inline {list-style: none; margin:0; padding: 0}\n",
       ".list-inline>li {display: inline-block}\n",
       ".list-inline>li:not(:last-child)::after {content: \"\\00b7\"; padding: 0 .5ex}\n",
       "</style>\n",
       "<ol class=list-inline><li>10000</li><li>65641</li></ol>\n"
      ],
      "text/latex": [
       "\\begin{enumerate*}\n",
       "\\item 10000\n",
       "\\item 65641\n",
       "\\end{enumerate*}\n"
      ],
      "text/markdown": [
       "1. 10000\n",
       "2. 65641\n",
       "\n",
       "\n"
      ],
      "text/plain": [
       "[1] 10000 65641"
      ]
     },
     "metadata": {},
     "output_type": "display_data"
    }
   ],
   "source": [
    "dim(mkData)"
   ]
  },
  {
   "cell_type": "code",
   "execution_count": 38,
   "id": "1f3766dc",
   "metadata": {},
   "outputs": [
    {
     "data": {
      "text/html": [
       "<table class=\"dataframe\">\n",
       "<caption>A data.frame: 5 × 10</caption>\n",
       "<thead>\n",
       "\t<tr><th></th><th scope=col>NZMAY009114970_1e.06_1_172049</th><th scope=col>NZMAY009114770_2e.06_1_180227</th><th scope=col>NZMAY009169370_3e.06_1_210603</th><th scope=col>NM0304030_4e.06_1_273671</th><th scope=col>NZMAY009115785_5e.06_1_324630</th><th scope=col>NZMAY009115577_6e.06_1_331375</th><th scope=col>NZMAY009114978_7e.06_1_369777</th><th scope=col>NM0282613_8e.06_1_402991</th><th scope=col>NM0325430_9e.06_1_441497</th><th scope=col>NM0320487_1e.05_1_445388</th></tr>\n",
       "\t<tr><th></th><th scope=col>&lt;chr&gt;</th><th scope=col>&lt;chr&gt;</th><th scope=col>&lt;chr&gt;</th><th scope=col>&lt;chr&gt;</th><th scope=col>&lt;chr&gt;</th><th scope=col>&lt;chr&gt;</th><th scope=col>&lt;chr&gt;</th><th scope=col>&lt;chr&gt;</th><th scope=col>&lt;chr&gt;</th><th scope=col>&lt;chr&gt;</th></tr>\n",
       "</thead>\n",
       "<tbody>\n",
       "\t<tr><th scope=row>progeny1</th><td>C</td><td>T</td><td>A</td><td>A</td><td>C</td><td>T</td><td>G</td><td>G</td><td>C</td><td>G</td></tr>\n",
       "\t<tr><th scope=row>progeny2</th><td>C</td><td>T</td><td>A</td><td>A</td><td>C</td><td>T</td><td>G</td><td>G</td><td>C</td><td>G</td></tr>\n",
       "\t<tr><th scope=row>progeny3</th><td>C</td><td>T</td><td>A</td><td>A</td><td>C</td><td>T</td><td>G</td><td>G</td><td>C</td><td>G</td></tr>\n",
       "\t<tr><th scope=row>progeny4</th><td>C</td><td>T</td><td>A</td><td>A</td><td>C</td><td>T</td><td>G</td><td>G</td><td>C</td><td>G</td></tr>\n",
       "\t<tr><th scope=row>progeny5</th><td>C</td><td>T</td><td>A</td><td>A</td><td>C</td><td>T</td><td>G</td><td>G</td><td>C</td><td>G</td></tr>\n",
       "</tbody>\n",
       "</table>\n"
      ],
      "text/latex": [
       "A data.frame: 5 × 10\n",
       "\\begin{tabular}{r|llllllllll}\n",
       "  & NZMAY009114970\\_1e.06\\_1\\_172049 & NZMAY009114770\\_2e.06\\_1\\_180227 & NZMAY009169370\\_3e.06\\_1\\_210603 & NM0304030\\_4e.06\\_1\\_273671 & NZMAY009115785\\_5e.06\\_1\\_324630 & NZMAY009115577\\_6e.06\\_1\\_331375 & NZMAY009114978\\_7e.06\\_1\\_369777 & NM0282613\\_8e.06\\_1\\_402991 & NM0325430\\_9e.06\\_1\\_441497 & NM0320487\\_1e.05\\_1\\_445388\\\\\n",
       "  & <chr> & <chr> & <chr> & <chr> & <chr> & <chr> & <chr> & <chr> & <chr> & <chr>\\\\\n",
       "\\hline\n",
       "\tprogeny1 & C & T & A & A & C & T & G & G & C & G\\\\\n",
       "\tprogeny2 & C & T & A & A & C & T & G & G & C & G\\\\\n",
       "\tprogeny3 & C & T & A & A & C & T & G & G & C & G\\\\\n",
       "\tprogeny4 & C & T & A & A & C & T & G & G & C & G\\\\\n",
       "\tprogeny5 & C & T & A & A & C & T & G & G & C & G\\\\\n",
       "\\end{tabular}\n"
      ],
      "text/markdown": [
       "\n",
       "A data.frame: 5 × 10\n",
       "\n",
       "| <!--/--> | NZMAY009114970_1e.06_1_172049 &lt;chr&gt; | NZMAY009114770_2e.06_1_180227 &lt;chr&gt; | NZMAY009169370_3e.06_1_210603 &lt;chr&gt; | NM0304030_4e.06_1_273671 &lt;chr&gt; | NZMAY009115785_5e.06_1_324630 &lt;chr&gt; | NZMAY009115577_6e.06_1_331375 &lt;chr&gt; | NZMAY009114978_7e.06_1_369777 &lt;chr&gt; | NM0282613_8e.06_1_402991 &lt;chr&gt; | NM0325430_9e.06_1_441497 &lt;chr&gt; | NM0320487_1e.05_1_445388 &lt;chr&gt; |\n",
       "|---|---|---|---|---|---|---|---|---|---|---|\n",
       "| progeny1 | C | T | A | A | C | T | G | G | C | G |\n",
       "| progeny2 | C | T | A | A | C | T | G | G | C | G |\n",
       "| progeny3 | C | T | A | A | C | T | G | G | C | G |\n",
       "| progeny4 | C | T | A | A | C | T | G | G | C | G |\n",
       "| progeny5 | C | T | A | A | C | T | G | G | C | G |\n",
       "\n"
      ],
      "text/plain": [
       "         NZMAY009114970_1e.06_1_172049 NZMAY009114770_2e.06_1_180227\n",
       "progeny1 C                             T                            \n",
       "progeny2 C                             T                            \n",
       "progeny3 C                             T                            \n",
       "progeny4 C                             T                            \n",
       "progeny5 C                             T                            \n",
       "         NZMAY009169370_3e.06_1_210603 NM0304030_4e.06_1_273671\n",
       "progeny1 A                             A                       \n",
       "progeny2 A                             A                       \n",
       "progeny3 A                             A                       \n",
       "progeny4 A                             A                       \n",
       "progeny5 A                             A                       \n",
       "         NZMAY009115785_5e.06_1_324630 NZMAY009115577_6e.06_1_331375\n",
       "progeny1 C                             T                            \n",
       "progeny2 C                             T                            \n",
       "progeny3 C                             T                            \n",
       "progeny4 C                             T                            \n",
       "progeny5 C                             T                            \n",
       "         NZMAY009114978_7e.06_1_369777 NM0282613_8e.06_1_402991\n",
       "progeny1 G                             G                       \n",
       "progeny2 G                             G                       \n",
       "progeny3 G                             G                       \n",
       "progeny4 G                             G                       \n",
       "progeny5 G                             G                       \n",
       "         NM0325430_9e.06_1_441497 NM0320487_1e.05_1_445388\n",
       "progeny1 C                        G                       \n",
       "progeny2 C                        G                       \n",
       "progeny3 C                        G                       \n",
       "progeny4 C                        G                       \n",
       "progeny5 C                        G                       "
      ]
     },
     "metadata": {},
     "output_type": "display_data"
    }
   ],
   "source": [
    "mkData[1:5,1:10]"
   ]
  },
  {
   "cell_type": "code",
   "execution_count": 52,
   "id": "e3617900",
   "metadata": {},
   "outputs": [],
   "source": [
    "load(\"/mnt/simulatedData//20230829/rawData//pop.effects.markers.20230829.RData\")"
   ]
  },
  {
   "cell_type": "code",
   "execution_count": 53,
   "id": "7f79b2c6",
   "metadata": {},
   "outputs": [],
   "source": [
    "founderPop.markers = as.data.frame(t(founderPop.markers))"
   ]
  },
  {
   "cell_type": "code",
   "execution_count": 54,
   "id": "ac62eb38",
   "metadata": {},
   "outputs": [
    {
     "data": {
      "text/html": [
       "<table class=\"dataframe\">\n",
       "<caption>A data.frame: 5 × 10</caption>\n",
       "<thead>\n",
       "\t<tr><th></th><th scope=col>NZMAY009114970_1e-06_1_172049</th><th scope=col>NZMAY009114770_2e-06_1_180227</th><th scope=col>NZMAY009169370_3e-06_1_210603</th><th scope=col>NM0304030_4e-06_1_273671</th><th scope=col>NZMAY009115785_5e-06_1_324630</th><th scope=col>NZMAY009115577_6e-06_1_331375</th><th scope=col>NZMAY009114978_7e-06_1_369777</th><th scope=col>NM0282613_8e-06_1_402991</th><th scope=col>NM0325430_9e-06_1_441497</th><th scope=col>NM0320487_1e-05_1_445388</th></tr>\n",
       "\t<tr><th></th><th scope=col>&lt;chr&gt;</th><th scope=col>&lt;chr&gt;</th><th scope=col>&lt;chr&gt;</th><th scope=col>&lt;chr&gt;</th><th scope=col>&lt;chr&gt;</th><th scope=col>&lt;chr&gt;</th><th scope=col>&lt;chr&gt;</th><th scope=col>&lt;chr&gt;</th><th scope=col>&lt;chr&gt;</th><th scope=col>&lt;chr&gt;</th></tr>\n",
       "</thead>\n",
       "<tbody>\n",
       "\t<tr><th scope=row>Line01</th><td>C</td><td>C</td><td>A</td><td>A</td><td>C</td><td>T</td><td>G</td><td>G</td><td>T</td><td>A</td></tr>\n",
       "\t<tr><th scope=row>Line02</th><td>T</td><td>T</td><td>A</td><td>A</td><td>C</td><td>T</td><td>C</td><td>G</td><td>T</td><td>A</td></tr>\n",
       "\t<tr><th scope=row>Line03</th><td>C</td><td>T</td><td>A</td><td>A</td><td>C</td><td>T</td><td>G</td><td>G</td><td>T</td><td>G</td></tr>\n",
       "\t<tr><th scope=row>Line04</th><td>C</td><td>T</td><td>A</td><td>A</td><td>C</td><td>T</td><td>G</td><td>G</td><td>C</td><td>G</td></tr>\n",
       "\t<tr><th scope=row>Line05</th><td>C</td><td>T</td><td>A</td><td>A</td><td>T</td><td>T</td><td>G</td><td>G</td><td>T</td><td>A</td></tr>\n",
       "</tbody>\n",
       "</table>\n"
      ],
      "text/latex": [
       "A data.frame: 5 × 10\n",
       "\\begin{tabular}{r|llllllllll}\n",
       "  & NZMAY009114970\\_1e-06\\_1\\_172049 & NZMAY009114770\\_2e-06\\_1\\_180227 & NZMAY009169370\\_3e-06\\_1\\_210603 & NM0304030\\_4e-06\\_1\\_273671 & NZMAY009115785\\_5e-06\\_1\\_324630 & NZMAY009115577\\_6e-06\\_1\\_331375 & NZMAY009114978\\_7e-06\\_1\\_369777 & NM0282613\\_8e-06\\_1\\_402991 & NM0325430\\_9e-06\\_1\\_441497 & NM0320487\\_1e-05\\_1\\_445388\\\\\n",
       "  & <chr> & <chr> & <chr> & <chr> & <chr> & <chr> & <chr> & <chr> & <chr> & <chr>\\\\\n",
       "\\hline\n",
       "\tLine01 & C & C & A & A & C & T & G & G & T & A\\\\\n",
       "\tLine02 & T & T & A & A & C & T & C & G & T & A\\\\\n",
       "\tLine03 & C & T & A & A & C & T & G & G & T & G\\\\\n",
       "\tLine04 & C & T & A & A & C & T & G & G & C & G\\\\\n",
       "\tLine05 & C & T & A & A & T & T & G & G & T & A\\\\\n",
       "\\end{tabular}\n"
      ],
      "text/markdown": [
       "\n",
       "A data.frame: 5 × 10\n",
       "\n",
       "| <!--/--> | NZMAY009114970_1e-06_1_172049 &lt;chr&gt; | NZMAY009114770_2e-06_1_180227 &lt;chr&gt; | NZMAY009169370_3e-06_1_210603 &lt;chr&gt; | NM0304030_4e-06_1_273671 &lt;chr&gt; | NZMAY009115785_5e-06_1_324630 &lt;chr&gt; | NZMAY009115577_6e-06_1_331375 &lt;chr&gt; | NZMAY009114978_7e-06_1_369777 &lt;chr&gt; | NM0282613_8e-06_1_402991 &lt;chr&gt; | NM0325430_9e-06_1_441497 &lt;chr&gt; | NM0320487_1e-05_1_445388 &lt;chr&gt; |\n",
       "|---|---|---|---|---|---|---|---|---|---|---|\n",
       "| Line01 | C | C | A | A | C | T | G | G | T | A |\n",
       "| Line02 | T | T | A | A | C | T | C | G | T | A |\n",
       "| Line03 | C | T | A | A | C | T | G | G | T | G |\n",
       "| Line04 | C | T | A | A | C | T | G | G | C | G |\n",
       "| Line05 | C | T | A | A | T | T | G | G | T | A |\n",
       "\n"
      ],
      "text/plain": [
       "       NZMAY009114970_1e-06_1_172049 NZMAY009114770_2e-06_1_180227\n",
       "Line01 C                             C                            \n",
       "Line02 T                             T                            \n",
       "Line03 C                             T                            \n",
       "Line04 C                             T                            \n",
       "Line05 C                             T                            \n",
       "       NZMAY009169370_3e-06_1_210603 NM0304030_4e-06_1_273671\n",
       "Line01 A                             A                       \n",
       "Line02 A                             A                       \n",
       "Line03 A                             A                       \n",
       "Line04 A                             A                       \n",
       "Line05 A                             A                       \n",
       "       NZMAY009115785_5e-06_1_324630 NZMAY009115577_6e-06_1_331375\n",
       "Line01 C                             T                            \n",
       "Line02 C                             T                            \n",
       "Line03 C                             T                            \n",
       "Line04 C                             T                            \n",
       "Line05 T                             T                            \n",
       "       NZMAY009114978_7e-06_1_369777 NM0282613_8e-06_1_402991\n",
       "Line01 G                             G                       \n",
       "Line02 C                             G                       \n",
       "Line03 G                             G                       \n",
       "Line04 G                             G                       \n",
       "Line05 G                             G                       \n",
       "       NM0325430_9e-06_1_441497 NM0320487_1e-05_1_445388\n",
       "Line01 T                        A                       \n",
       "Line02 T                        A                       \n",
       "Line03 T                        G                       \n",
       "Line04 C                        G                       \n",
       "Line05 T                        A                       "
      ]
     },
     "metadata": {},
     "output_type": "display_data"
    },
    {
     "data": {
      "text/html": [
       "<style>\n",
       ".list-inline {list-style: none; margin:0; padding: 0}\n",
       ".list-inline>li {display: inline-block}\n",
       ".list-inline>li:not(:last-child)::after {content: \"\\00b7\"; padding: 0 .5ex}\n",
       "</style>\n",
       "<ol class=list-inline><li>16</li><li>65641</li></ol>\n"
      ],
      "text/latex": [
       "\\begin{enumerate*}\n",
       "\\item 16\n",
       "\\item 65641\n",
       "\\end{enumerate*}\n"
      ],
      "text/markdown": [
       "1. 16\n",
       "2. 65641\n",
       "\n",
       "\n"
      ],
      "text/plain": [
       "[1]    16 65641"
      ]
     },
     "metadata": {},
     "output_type": "display_data"
    }
   ],
   "source": [
    "founderPop.markers[1:5,1:10]\n",
    "dim(founderPop.markers)"
   ]
  },
  {
   "cell_type": "code",
   "execution_count": 55,
   "id": "84dd6794",
   "metadata": {},
   "outputs": [
    {
     "data": {
      "text/plain": [
       "\n",
       "FALSE  TRUE \n",
       "  534 65107 "
      ]
     },
     "metadata": {},
     "output_type": "display_data"
    }
   ],
   "source": [
    "table(colnames(founderPop.markers) %in% colnames(mkData))"
   ]
  },
  {
   "cell_type": "code",
   "execution_count": 56,
   "id": "ed3b7675",
   "metadata": {},
   "outputs": [],
   "source": [
    "sharedMks = colnames(mkData)[colnames(mkData) %in% colnames(founderPop.markers)]"
   ]
  },
  {
   "cell_type": "code",
   "execution_count": 63,
   "id": "2a3f3dcf",
   "metadata": {},
   "outputs": [],
   "source": [
    "allMkData = rbind(mkData[,sharedMks],founderPop.markers[,sharedMks])"
   ]
  },
  {
   "cell_type": "code",
   "execution_count": 64,
   "id": "30b127cc",
   "metadata": {},
   "outputs": [
    {
     "data": {
      "text/html": [
       "<style>\n",
       ".list-inline {list-style: none; margin:0; padding: 0}\n",
       ".list-inline>li {display: inline-block}\n",
       ".list-inline>li:not(:last-child)::after {content: \"\\00b7\"; padding: 0 .5ex}\n",
       "</style>\n",
       "<ol class=list-inline><li>10016</li><li>65107</li></ol>\n"
      ],
      "text/latex": [
       "\\begin{enumerate*}\n",
       "\\item 10016\n",
       "\\item 65107\n",
       "\\end{enumerate*}\n"
      ],
      "text/markdown": [
       "1. 10016\n",
       "2. 65107\n",
       "\n",
       "\n"
      ],
      "text/plain": [
       "[1] 10016 65107"
      ]
     },
     "metadata": {},
     "output_type": "display_data"
    }
   ],
   "source": [
    "dim(allMkData)"
   ]
  },
  {
   "cell_type": "code",
   "execution_count": 83,
   "id": "3cecd2cd",
   "metadata": {},
   "outputs": [],
   "source": [
    "qIndex = as.numeric() \n",
    " convertGenoToNum = function(mkDataGeno){\n",
    " \t# this function is to covert a genotype matrix/dataframe to a numeric format (-1,0,1)\n",
    " \t# @parameters\n",
    "  \t\t# mkDataGeno is a dataframe with row as linename and column as marker name. \n",
    "\n",
    "  \t\n",
    "  \t# ideas; For each marker; find its genotype distribution; \n",
    "  \t\t#1) if having N, tag this marker as problematic; \n",
    "  \t\t#2) if not having N\n",
    "  \t\t\t#2.1 more than 2 alleles (not including H) or only one allele (fixed), tag this marker as problematic\n",
    "  \t\t\t#2.2 convet H to 0, the dominat allele to 1, and the alternative allele to -1\n",
    "  \t\t\n",
    " \tfor(i in 1:ncol(mkDataGeno)){\n",
    "        if((i-1) %% 1000 == 0){print(paste(i,Sys.time()))}\n",
    " \t\ttmpGeno = mkDataGeno[,i] # the the genotype for each marker\n",
    "  \t\ttbGeno = sort(table(tmpGeno),decreasing = T) # order the genotype by frequency\n",
    "  \t\tnPos = which(names(tbGeno) == \"N\") # find the N\n",
    "  \n",
    " \t\tif(length(nPos) == 0){ # no N for this marker\n",
    " \t\t\tgenoName = names(tbGeno)[!names(tbGeno) %in% c(\"N\",\"H\")] # genotype names (eg. A,T,C,G)\n",
    " \t\t\tif(length(genoName) != 2){# Not 2 alleles; Either one or more than 2 alleles\n",
    " \t\t\t\tqIndex = c(qIndex,i)\n",
    "    \t\t}else{\n",
    "    \t\t\ttmpGeno = str_replace(tmpGeno,\"H\",\"0\")\n",
    "     \t\t\ttmpGeno = str_replace(tmpGeno,genoName[1],\"1\")\n",
    "      \t\t\ttmpGeno = str_replace(tmpGeno,genoName[2],\"-1\")\n",
    "      \t\t\tmkDataGeno[,i] = tmpGeno\n",
    "   \t\t \t}\n",
    "  \t\t}else{# Having missing data\n",
    "  \t\t\t qIndex = c(qIndex,i)\n",
    " \t\t }\n",
    "\t}\n",
    "\treturn(mkDataGeno)\n",
    " }\n"
   ]
  },
  {
   "cell_type": "code",
   "execution_count": 84,
   "id": "378e075a",
   "metadata": {},
   "outputs": [
    {
     "name": "stdout",
     "output_type": "stream",
     "text": [
      "[1] \"1 2023-09-05 18:58:18\"\n",
      "[1] \"1001 2023-09-05 18:58:51\"\n",
      "[1] \"2001 2023-09-05 18:59:21\"\n",
      "[1] \"3001 2023-09-05 18:59:52\"\n",
      "[1] \"4001 2023-09-05 19:00:23\"\n",
      "[1] \"5001 2023-09-05 19:00:53\"\n",
      "[1] \"6001 2023-09-05 19:01:24\"\n",
      "[1] \"7001 2023-09-05 19:01:54\"\n",
      "[1] \"8001 2023-09-05 19:02:25\"\n",
      "[1] \"9001 2023-09-05 19:02:55\"\n",
      "[1] \"10001 2023-09-05 19:03:26\"\n",
      "[1] \"11001 2023-09-05 19:03:57\"\n",
      "[1] \"12001 2023-09-05 19:04:28\"\n",
      "[1] \"13001 2023-09-05 19:04:59\"\n",
      "[1] \"14001 2023-09-05 19:05:31\"\n",
      "[1] \"15001 2023-09-05 19:06:01\"\n",
      "[1] \"16001 2023-09-05 19:06:33\"\n",
      "[1] \"17001 2023-09-05 19:07:03\"\n",
      "[1] \"18001 2023-09-05 19:07:33\"\n",
      "[1] \"19001 2023-09-05 19:08:03\"\n",
      "[1] \"20001 2023-09-05 19:08:34\"\n",
      "[1] \"21001 2023-09-05 19:09:04\"\n",
      "[1] \"22001 2023-09-05 19:09:35\"\n",
      "[1] \"23001 2023-09-05 19:10:06\"\n",
      "[1] \"24001 2023-09-05 19:10:37\"\n",
      "[1] \"25001 2023-09-05 19:11:08\"\n",
      "[1] \"26001 2023-09-05 19:11:39\"\n",
      "[1] \"27001 2023-09-05 19:12:11\"\n",
      "[1] \"28001 2023-09-05 19:12:42\"\n",
      "[1] \"29001 2023-09-05 19:13:13\"\n",
      "[1] \"30001 2023-09-05 19:13:44\"\n",
      "[1] \"31001 2023-09-05 19:14:15\"\n",
      "[1] \"32001 2023-09-05 19:14:47\"\n",
      "[1] \"33001 2023-09-05 19:15:17\"\n",
      "[1] \"34001 2023-09-05 19:15:48\"\n",
      "[1] \"35001 2023-09-05 19:16:19\"\n",
      "[1] \"36001 2023-09-05 19:16:50\"\n",
      "[1] \"37001 2023-09-05 19:17:21\"\n",
      "[1] \"38001 2023-09-05 19:17:52\"\n",
      "[1] \"39001 2023-09-05 19:18:23\"\n",
      "[1] \"40001 2023-09-05 19:18:55\"\n",
      "[1] \"41001 2023-09-05 19:19:26\"\n",
      "[1] \"42001 2023-09-05 19:19:57\"\n",
      "[1] \"43001 2023-09-05 19:20:28\"\n",
      "[1] \"44001 2023-09-05 19:20:59\"\n",
      "[1] \"45001 2023-09-05 19:21:32\"\n",
      "[1] \"46001 2023-09-05 19:22:02\"\n",
      "[1] \"47001 2023-09-05 19:22:33\"\n",
      "[1] \"48001 2023-09-05 19:23:05\"\n",
      "[1] \"49001 2023-09-05 19:23:35\"\n",
      "[1] \"50001 2023-09-05 19:24:07\"\n",
      "[1] \"51001 2023-09-05 19:24:39\"\n",
      "[1] \"52001 2023-09-05 19:25:12\"\n",
      "[1] \"53001 2023-09-05 19:25:44\"\n",
      "[1] \"54001 2023-09-05 19:26:15\"\n",
      "[1] \"55001 2023-09-05 19:26:46\"\n",
      "[1] \"56001 2023-09-05 19:27:18\"\n",
      "[1] \"57001 2023-09-05 19:27:48\"\n",
      "[1] \"58001 2023-09-05 19:28:21\"\n",
      "[1] \"59001 2023-09-05 19:28:53\"\n",
      "[1] \"60001 2023-09-05 19:29:25\"\n",
      "[1] \"61001 2023-09-05 19:29:57\"\n",
      "[1] \"62001 2023-09-05 19:30:30\"\n",
      "[1] \"63001 2023-09-05 19:31:02\"\n",
      "[1] \"64001 2023-09-05 19:31:34\"\n",
      "[1] \"65001 2023-09-05 19:32:06\"\n"
     ]
    }
   ],
   "source": [
    "mkDataNum = convertGenoToNum(allMkData)"
   ]
  },
  {
   "cell_type": "code",
   "execution_count": 85,
   "id": "37c43a46",
   "metadata": {},
   "outputs": [
    {
     "data": {
      "text/html": [
       "<table class=\"dataframe\">\n",
       "<caption>A data.frame: 10 × 10</caption>\n",
       "<thead>\n",
       "\t<tr><th></th><th scope=col>NZMAY009115574_0.100001_1_1066422</th><th scope=col>NC0199888_0.100002_1_1068668</th><th scope=col>NZMAY009115978_0.100003_1_1073279</th><th scope=col>NZMAY009115570_0.100004_1_1117815</th><th scope=col>NZMAY009115770_0.100005_1_1119199</th><th scope=col>NC0200507_0.100006_1_1227948</th><th scope=col>NM0282627_0.100007_1_1439964</th><th scope=col>NZMAY009115971_0.100008_1_1456623</th><th scope=col>NM0320492_0.100009_1_1494637</th><th scope=col>NC0024027_0.10001_1_1523636</th></tr>\n",
       "\t<tr><th></th><th scope=col>&lt;chr&gt;</th><th scope=col>&lt;chr&gt;</th><th scope=col>&lt;chr&gt;</th><th scope=col>&lt;chr&gt;</th><th scope=col>&lt;chr&gt;</th><th scope=col>&lt;chr&gt;</th><th scope=col>&lt;chr&gt;</th><th scope=col>&lt;chr&gt;</th><th scope=col>&lt;chr&gt;</th><th scope=col>&lt;chr&gt;</th></tr>\n",
       "</thead>\n",
       "<tbody>\n",
       "\t<tr><th scope=row>progeny1</th><td>1</td><td>1</td><td>1</td><td>1</td><td>1</td><td>1</td><td>1</td><td>1</td><td>1</td><td>1</td></tr>\n",
       "\t<tr><th scope=row>progeny2</th><td>1</td><td>1</td><td>1</td><td>1</td><td>1</td><td>1</td><td>1</td><td>1</td><td>1</td><td>1</td></tr>\n",
       "\t<tr><th scope=row>progeny3</th><td>1</td><td>1</td><td>1</td><td>1</td><td>1</td><td>1</td><td>1</td><td>1</td><td>1</td><td>1</td></tr>\n",
       "\t<tr><th scope=row>progeny4</th><td>1</td><td>1</td><td>1</td><td>1</td><td>1</td><td>1</td><td>1</td><td>1</td><td>1</td><td>1</td></tr>\n",
       "\t<tr><th scope=row>progeny5</th><td>1</td><td>1</td><td>1</td><td>1</td><td>1</td><td>1</td><td>1</td><td>1</td><td>1</td><td>1</td></tr>\n",
       "\t<tr><th scope=row>progeny6</th><td>1</td><td>1</td><td>1</td><td>1</td><td>1</td><td>1</td><td>1</td><td>1</td><td>1</td><td>1</td></tr>\n",
       "\t<tr><th scope=row>progeny7</th><td>1</td><td>1</td><td>1</td><td>1</td><td>1</td><td>1</td><td>1</td><td>1</td><td>1</td><td>1</td></tr>\n",
       "\t<tr><th scope=row>progeny8</th><td>1</td><td>1</td><td>1</td><td>1</td><td>1</td><td>1</td><td>1</td><td>1</td><td>1</td><td>1</td></tr>\n",
       "\t<tr><th scope=row>progeny9</th><td>1</td><td>1</td><td>1</td><td>1</td><td>1</td><td>1</td><td>1</td><td>1</td><td>1</td><td>1</td></tr>\n",
       "\t<tr><th scope=row>progeny10</th><td>1</td><td>1</td><td>1</td><td>1</td><td>1</td><td>1</td><td>1</td><td>1</td><td>1</td><td>1</td></tr>\n",
       "</tbody>\n",
       "</table>\n"
      ],
      "text/latex": [
       "A data.frame: 10 × 10\n",
       "\\begin{tabular}{r|llllllllll}\n",
       "  & NZMAY009115574\\_0.100001\\_1\\_1066422 & NC0199888\\_0.100002\\_1\\_1068668 & NZMAY009115978\\_0.100003\\_1\\_1073279 & NZMAY009115570\\_0.100004\\_1\\_1117815 & NZMAY009115770\\_0.100005\\_1\\_1119199 & NC0200507\\_0.100006\\_1\\_1227948 & NM0282627\\_0.100007\\_1\\_1439964 & NZMAY009115971\\_0.100008\\_1\\_1456623 & NM0320492\\_0.100009\\_1\\_1494637 & NC0024027\\_0.10001\\_1\\_1523636\\\\\n",
       "  & <chr> & <chr> & <chr> & <chr> & <chr> & <chr> & <chr> & <chr> & <chr> & <chr>\\\\\n",
       "\\hline\n",
       "\tprogeny1 & 1 & 1 & 1 & 1 & 1 & 1 & 1 & 1 & 1 & 1\\\\\n",
       "\tprogeny2 & 1 & 1 & 1 & 1 & 1 & 1 & 1 & 1 & 1 & 1\\\\\n",
       "\tprogeny3 & 1 & 1 & 1 & 1 & 1 & 1 & 1 & 1 & 1 & 1\\\\\n",
       "\tprogeny4 & 1 & 1 & 1 & 1 & 1 & 1 & 1 & 1 & 1 & 1\\\\\n",
       "\tprogeny5 & 1 & 1 & 1 & 1 & 1 & 1 & 1 & 1 & 1 & 1\\\\\n",
       "\tprogeny6 & 1 & 1 & 1 & 1 & 1 & 1 & 1 & 1 & 1 & 1\\\\\n",
       "\tprogeny7 & 1 & 1 & 1 & 1 & 1 & 1 & 1 & 1 & 1 & 1\\\\\n",
       "\tprogeny8 & 1 & 1 & 1 & 1 & 1 & 1 & 1 & 1 & 1 & 1\\\\\n",
       "\tprogeny9 & 1 & 1 & 1 & 1 & 1 & 1 & 1 & 1 & 1 & 1\\\\\n",
       "\tprogeny10 & 1 & 1 & 1 & 1 & 1 & 1 & 1 & 1 & 1 & 1\\\\\n",
       "\\end{tabular}\n"
      ],
      "text/markdown": [
       "\n",
       "A data.frame: 10 × 10\n",
       "\n",
       "| <!--/--> | NZMAY009115574_0.100001_1_1066422 &lt;chr&gt; | NC0199888_0.100002_1_1068668 &lt;chr&gt; | NZMAY009115978_0.100003_1_1073279 &lt;chr&gt; | NZMAY009115570_0.100004_1_1117815 &lt;chr&gt; | NZMAY009115770_0.100005_1_1119199 &lt;chr&gt; | NC0200507_0.100006_1_1227948 &lt;chr&gt; | NM0282627_0.100007_1_1439964 &lt;chr&gt; | NZMAY009115971_0.100008_1_1456623 &lt;chr&gt; | NM0320492_0.100009_1_1494637 &lt;chr&gt; | NC0024027_0.10001_1_1523636 &lt;chr&gt; |\n",
       "|---|---|---|---|---|---|---|---|---|---|---|\n",
       "| progeny1 | 1 | 1 | 1 | 1 | 1 | 1 | 1 | 1 | 1 | 1 |\n",
       "| progeny2 | 1 | 1 | 1 | 1 | 1 | 1 | 1 | 1 | 1 | 1 |\n",
       "| progeny3 | 1 | 1 | 1 | 1 | 1 | 1 | 1 | 1 | 1 | 1 |\n",
       "| progeny4 | 1 | 1 | 1 | 1 | 1 | 1 | 1 | 1 | 1 | 1 |\n",
       "| progeny5 | 1 | 1 | 1 | 1 | 1 | 1 | 1 | 1 | 1 | 1 |\n",
       "| progeny6 | 1 | 1 | 1 | 1 | 1 | 1 | 1 | 1 | 1 | 1 |\n",
       "| progeny7 | 1 | 1 | 1 | 1 | 1 | 1 | 1 | 1 | 1 | 1 |\n",
       "| progeny8 | 1 | 1 | 1 | 1 | 1 | 1 | 1 | 1 | 1 | 1 |\n",
       "| progeny9 | 1 | 1 | 1 | 1 | 1 | 1 | 1 | 1 | 1 | 1 |\n",
       "| progeny10 | 1 | 1 | 1 | 1 | 1 | 1 | 1 | 1 | 1 | 1 |\n",
       "\n"
      ],
      "text/plain": [
       "          NZMAY009115574_0.100001_1_1066422 NC0199888_0.100002_1_1068668\n",
       "progeny1  1                                 1                           \n",
       "progeny2  1                                 1                           \n",
       "progeny3  1                                 1                           \n",
       "progeny4  1                                 1                           \n",
       "progeny5  1                                 1                           \n",
       "progeny6  1                                 1                           \n",
       "progeny7  1                                 1                           \n",
       "progeny8  1                                 1                           \n",
       "progeny9  1                                 1                           \n",
       "progeny10 1                                 1                           \n",
       "          NZMAY009115978_0.100003_1_1073279 NZMAY009115570_0.100004_1_1117815\n",
       "progeny1  1                                 1                                \n",
       "progeny2  1                                 1                                \n",
       "progeny3  1                                 1                                \n",
       "progeny4  1                                 1                                \n",
       "progeny5  1                                 1                                \n",
       "progeny6  1                                 1                                \n",
       "progeny7  1                                 1                                \n",
       "progeny8  1                                 1                                \n",
       "progeny9  1                                 1                                \n",
       "progeny10 1                                 1                                \n",
       "          NZMAY009115770_0.100005_1_1119199 NC0200507_0.100006_1_1227948\n",
       "progeny1  1                                 1                           \n",
       "progeny2  1                                 1                           \n",
       "progeny3  1                                 1                           \n",
       "progeny4  1                                 1                           \n",
       "progeny5  1                                 1                           \n",
       "progeny6  1                                 1                           \n",
       "progeny7  1                                 1                           \n",
       "progeny8  1                                 1                           \n",
       "progeny9  1                                 1                           \n",
       "progeny10 1                                 1                           \n",
       "          NM0282627_0.100007_1_1439964 NZMAY009115971_0.100008_1_1456623\n",
       "progeny1  1                            1                                \n",
       "progeny2  1                            1                                \n",
       "progeny3  1                            1                                \n",
       "progeny4  1                            1                                \n",
       "progeny5  1                            1                                \n",
       "progeny6  1                            1                                \n",
       "progeny7  1                            1                                \n",
       "progeny8  1                            1                                \n",
       "progeny9  1                            1                                \n",
       "progeny10 1                            1                                \n",
       "          NM0320492_0.100009_1_1494637 NC0024027_0.10001_1_1523636\n",
       "progeny1  1                            1                          \n",
       "progeny2  1                            1                          \n",
       "progeny3  1                            1                          \n",
       "progeny4  1                            1                          \n",
       "progeny5  1                            1                          \n",
       "progeny6  1                            1                          \n",
       "progeny7  1                            1                          \n",
       "progeny8  1                            1                          \n",
       "progeny9  1                            1                          \n",
       "progeny10 1                            1                          "
      ]
     },
     "metadata": {},
     "output_type": "display_data"
    }
   ],
   "source": [
    "mkDataNum[1:10,1:10]"
   ]
  },
  {
   "cell_type": "code",
   "execution_count": 86,
   "id": "f78f0109",
   "metadata": {},
   "outputs": [],
   "source": [
    "qCol = as.numeric()\n",
    "for(i in 1:ncol(mkDataNum)){\n",
    "    if(!all(names(table(mkDataNum[,i])) %in% c(0,-1,1))){\n",
    "        qCol = c(qCol,i)\n",
    "    }\n",
    "}"
   ]
  },
  {
   "cell_type": "code",
   "execution_count": 87,
   "id": "e3aea073",
   "metadata": {},
   "outputs": [
    {
     "data": {
      "text/html": [
       "<style>\n",
       ".list-inline {list-style: none; margin:0; padding: 0}\n",
       ".list-inline>li {display: inline-block}\n",
       ".list-inline>li:not(:last-child)::after {content: \"\\00b7\"; padding: 0 .5ex}\n",
       "</style>\n",
       "<ol class=list-inline><li>34</li><li>101</li><li>144</li><li>146</li><li>174</li><li>188</li></ol>\n"
      ],
      "text/latex": [
       "\\begin{enumerate*}\n",
       "\\item 34\n",
       "\\item 101\n",
       "\\item 144\n",
       "\\item 146\n",
       "\\item 174\n",
       "\\item 188\n",
       "\\end{enumerate*}\n"
      ],
      "text/markdown": [
       "1. 34\n",
       "2. 101\n",
       "3. 144\n",
       "4. 146\n",
       "5. 174\n",
       "6. 188\n",
       "\n",
       "\n"
      ],
      "text/plain": [
       "[1]  34 101 144 146 174 188"
      ]
     },
     "metadata": {},
     "output_type": "display_data"
    }
   ],
   "source": [
    "head(qCol)"
   ]
  },
  {
   "cell_type": "code",
   "execution_count": 90,
   "id": "b0757981",
   "metadata": {},
   "outputs": [
    {
     "data": {
      "text/plain": [
       "\n",
       "  -1    1 \n",
       "1095 8921 "
      ]
     },
     "metadata": {},
     "output_type": "display_data"
    }
   ],
   "source": [
    "table(mkDataNum[,1])"
   ]
  },
  {
   "cell_type": "code",
   "execution_count": 91,
   "id": "8b799881",
   "metadata": {},
   "outputs": [
    {
     "data": {
      "text/html": [
       "<style>\n",
       ".list-inline {list-style: none; margin:0; padding: 0}\n",
       ".list-inline>li {display: inline-block}\n",
       ".list-inline>li:not(:last-child)::after {content: \"\\00b7\"; padding: 0 .5ex}\n",
       "</style>\n",
       "<ol class=list-inline><li>10016</li><li>65107</li></ol>\n"
      ],
      "text/latex": [
       "\\begin{enumerate*}\n",
       "\\item 10016\n",
       "\\item 65107\n",
       "\\end{enumerate*}\n"
      ],
      "text/markdown": [
       "1. 10016\n",
       "2. 65107\n",
       "\n",
       "\n"
      ],
      "text/plain": [
       "[1] 10016 65107"
      ]
     },
     "metadata": {},
     "output_type": "display_data"
    }
   ],
   "source": [
    "dim(mkDataNum)"
   ]
  },
  {
   "cell_type": "code",
   "execution_count": 92,
   "id": "08da2779",
   "metadata": {},
   "outputs": [],
   "source": [
    "saveRDS(mkDataNum[trainIndex,-qCol],\"/mnt/simulatedData/20230829/trainMkData.rds\")\n",
    "saveRDS(mkDataNum[-trainIndex,-qCol],\"/mnt/simulatedData/20230829/testMkData.rds\")"
   ]
  }
 ],
 "metadata": {
  "kernelspec": {
   "display_name": "R",
   "language": "R",
   "name": "ir"
  },
  "language_info": {
   "codemirror_mode": "r",
   "file_extension": ".r",
   "mimetype": "text/x-r-source",
   "name": "R",
   "pygments_lexer": "r",
   "version": "4.0.3"
  }
 },
 "nbformat": 4,
 "nbformat_minor": 5
}
